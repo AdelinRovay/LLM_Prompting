{
  "nbformat": 4,
  "nbformat_minor": 0,
  "metadata": {
    "colab": {
      "provenance": [],
      "gpuType": "T4"
    },
    "kernelspec": {
      "name": "python3",
      "display_name": "Python 3"
    },
    "language_info": {
      "name": "python"
    },
    "accelerator": "GPU"
  },
  "cells": [
    {
      "cell_type": "markdown",
      "source": [
        "#**CSE 574 Assignment 3 - Instructions for Using Llama2 on Google Colab**\n"
      ],
      "metadata": {
        "id": "4bKQIsIq-d8y"
      }
    },
    {
      "cell_type": "markdown",
      "source": [
        "The Llama 2 is a collection of pretrained and fine-tuned generative text models, ranging from 7 billion to 70 billion parameters, designed for dialogue use cases.  It outperforms open-source chat models on most benchmarks and is on par with popular closed-source models in human evaluations for helpfulness and safety.\n",
        "\n",
        "The Hugging Face community provides quantized models, which allow us to efficiently and effectively utilize the model on the T4 GPU. It is important to consult reliable sources before using any model.\n",
        "\n",
        "There are several variations available, but the ones that interest us are based on the GGLM library.\n",
        "\n",
        "We can see the different variations that Llama-2-13B-GGML has [here](https://huggingface.co/models?search=llama%202%20ggml).\n",
        "\n",
        "\n",
        "\n",
        "In this case, we will use the model called [Llama-2-13B-chat-GGML](https://huggingface.co/TheBloke/Llama-2-13B-chat-GGML)."
      ],
      "metadata": {
        "id": "PnV5UC7A2vBZ"
      }
    },
    {
      "cell_type": "markdown",
      "source": [
        "##**Step 1: Install and Import All the Required Packages**"
      ],
      "metadata": {
        "id": "YQZBmz7I5neU"
      }
    },
    {
      "cell_type": "code",
      "execution_count": null,
      "metadata": {
        "colab": {
          "base_uri": "https://localhost:8080/"
        },
        "id": "L0avf7xx2lcj",
        "outputId": "3013183f-51a7-40bf-8c37-800ffbfaaf77"
      },
      "outputs": [
        {
          "output_type": "stream",
          "name": "stdout",
          "text": [
            "Using pip 23.1.2 from /usr/local/lib/python3.10/dist-packages/pip (python 3.10)\n",
            "Collecting llama-cpp-python==0.1.78\n",
            "  Downloading llama_cpp_python-0.1.78.tar.gz (1.7 MB)\n",
            "\u001b[2K     \u001b[90m━━━━━━━━━━━━━━━━━━━━━━━━━━━━━━━━━━━━━━━━\u001b[0m \u001b[32m1.7/1.7 MB\u001b[0m \u001b[31m8.8 MB/s\u001b[0m eta \u001b[36m0:00:00\u001b[0m\n",
            "\u001b[?25h  Running command pip subprocess to install build dependencies\n",
            "  Using pip 23.1.2 from /usr/local/lib/python3.10/dist-packages/pip (python 3.10)\n",
            "  Collecting setuptools>=42\n",
            "    Using cached setuptools-68.2.2-py3-none-any.whl (807 kB)\n",
            "  Collecting scikit-build>=0.13\n",
            "    Using cached scikit_build-0.17.6-py3-none-any.whl (84 kB)\n",
            "  Collecting cmake>=3.18\n",
            "    Using cached cmake-3.27.7-py2.py3-none-manylinux2014_x86_64.manylinux_2_17_x86_64.whl (26.0 MB)\n",
            "  Collecting ninja\n",
            "    Using cached ninja-1.11.1.1-py2.py3-none-manylinux1_x86_64.manylinux_2_5_x86_64.whl (307 kB)\n",
            "  Collecting distro (from scikit-build>=0.13)\n",
            "    Using cached distro-1.8.0-py3-none-any.whl (20 kB)\n",
            "  Collecting packaging (from scikit-build>=0.13)\n",
            "    Using cached packaging-23.2-py3-none-any.whl (53 kB)\n",
            "  Collecting tomli (from scikit-build>=0.13)\n",
            "    Using cached tomli-2.0.1-py3-none-any.whl (12 kB)\n",
            "  Collecting wheel>=0.32.0 (from scikit-build>=0.13)\n",
            "    Using cached wheel-0.41.3-py3-none-any.whl (65 kB)\n",
            "  Installing collected packages: ninja, cmake, wheel, tomli, setuptools, packaging, distro, scikit-build\n",
            "    Creating /tmp/pip-build-env-xh1_ds17/overlay/local/bin\n",
            "    changing mode of /tmp/pip-build-env-xh1_ds17/overlay/local/bin/ninja to 755\n",
            "    changing mode of /tmp/pip-build-env-xh1_ds17/overlay/local/bin/cmake to 755\n",
            "    changing mode of /tmp/pip-build-env-xh1_ds17/overlay/local/bin/cpack to 755\n",
            "    changing mode of /tmp/pip-build-env-xh1_ds17/overlay/local/bin/ctest to 755\n",
            "    changing mode of /tmp/pip-build-env-xh1_ds17/overlay/local/bin/wheel to 755\n",
            "    changing mode of /tmp/pip-build-env-xh1_ds17/overlay/local/bin/distro to 755\n",
            "  ERROR: pip's dependency resolver does not currently take into account all the packages that are installed. This behaviour is the source of the following dependency conflicts.\n",
            "  ipython 7.34.0 requires jedi>=0.16, which is not installed.\n",
            "  lida 0.0.10 requires fastapi, which is not installed.\n",
            "  lida 0.0.10 requires kaleido, which is not installed.\n",
            "  lida 0.0.10 requires python-multipart, which is not installed.\n",
            "  lida 0.0.10 requires uvicorn, which is not installed.\n",
            "  tensorflow 2.14.0 requires numpy>=1.23.5, but you have numpy 1.23.4 which is incompatible.\n",
            "  Successfully installed cmake-3.27.7 distro-1.8.0 ninja-1.11.1.1 packaging-23.2 scikit-build-0.17.6 setuptools-68.2.2 tomli-2.0.1 wheel-0.41.3\n",
            "  Installing build dependencies ... \u001b[?25l\u001b[?25hdone\n",
            "  Running command Getting requirements to build wheel\n",
            "  running egg_info\n",
            "  writing llama_cpp_python.egg-info/PKG-INFO\n",
            "  writing dependency_links to llama_cpp_python.egg-info/dependency_links.txt\n",
            "  writing requirements to llama_cpp_python.egg-info/requires.txt\n",
            "  writing top-level names to llama_cpp_python.egg-info/top_level.txt\n",
            "  reading manifest file 'llama_cpp_python.egg-info/SOURCES.txt'\n",
            "  adding license file 'LICENSE.md'\n",
            "  writing manifest file 'llama_cpp_python.egg-info/SOURCES.txt'\n",
            "  Getting requirements to build wheel ... \u001b[?25l\u001b[?25hdone\n",
            "  Running command Preparing metadata (pyproject.toml)\n",
            "  running dist_info\n",
            "  creating /tmp/pip-modern-metadata-413pkmrt/llama_cpp_python.egg-info\n",
            "  writing /tmp/pip-modern-metadata-413pkmrt/llama_cpp_python.egg-info/PKG-INFO\n",
            "  writing dependency_links to /tmp/pip-modern-metadata-413pkmrt/llama_cpp_python.egg-info/dependency_links.txt\n",
            "  writing requirements to /tmp/pip-modern-metadata-413pkmrt/llama_cpp_python.egg-info/requires.txt\n",
            "  writing top-level names to /tmp/pip-modern-metadata-413pkmrt/llama_cpp_python.egg-info/top_level.txt\n",
            "  writing manifest file '/tmp/pip-modern-metadata-413pkmrt/llama_cpp_python.egg-info/SOURCES.txt'\n",
            "  reading manifest file '/tmp/pip-modern-metadata-413pkmrt/llama_cpp_python.egg-info/SOURCES.txt'\n",
            "  adding license file 'LICENSE.md'\n",
            "  writing manifest file '/tmp/pip-modern-metadata-413pkmrt/llama_cpp_python.egg-info/SOURCES.txt'\n",
            "  creating '/tmp/pip-modern-metadata-413pkmrt/llama_cpp_python-0.1.78.dist-info'\n",
            "  Preparing metadata (pyproject.toml) ... \u001b[?25l\u001b[?25hdone\n",
            "Collecting numpy==1.23.4\n",
            "  Downloading numpy-1.23.4-cp310-cp310-manylinux_2_17_x86_64.manylinux2014_x86_64.whl (17.1 MB)\n",
            "\u001b[2K     \u001b[90m━━━━━━━━━━━━━━━━━━━━━━━━━━━━━━━━━━━━━━━━\u001b[0m \u001b[32m17.1/17.1 MB\u001b[0m \u001b[31m66.3 MB/s\u001b[0m eta \u001b[36m0:00:00\u001b[0m\n",
            "\u001b[?25hCollecting typing-extensions>=4.5.0 (from llama-cpp-python==0.1.78)\n",
            "  Downloading typing_extensions-4.8.0-py3-none-any.whl (31 kB)\n",
            "Collecting diskcache>=5.6.1 (from llama-cpp-python==0.1.78)\n",
            "  Downloading diskcache-5.6.3-py3-none-any.whl (45 kB)\n",
            "\u001b[2K     \u001b[90m━━━━━━━━━━━━━━━━━━━━━━━━━━━━━━━━━━━━━━━━\u001b[0m \u001b[32m45.5/45.5 kB\u001b[0m \u001b[31m223.0 MB/s\u001b[0m eta \u001b[36m0:00:00\u001b[0m\n",
            "\u001b[?25hBuilding wheels for collected packages: llama-cpp-python\n",
            "  Running command Building wheel for llama-cpp-python (pyproject.toml)\n",
            "\n",
            "\n",
            "  --------------------------------------------------------------------------------\n",
            "  -- Trying 'Ninja' generator\n",
            "  --------------------------------\n",
            "  ---------------------------\n",
            "  ----------------------\n",
            "  -----------------\n",
            "  ------------\n",
            "  -------\n",
            "  --\n",
            "  CMake Deprecation Warning at CMakeLists.txt:1 (cmake_minimum_required):\n",
            "    Compatibility with CMake < 3.5 will be removed from a future version of\n",
            "    CMake.\n",
            "\n",
            "    Update the VERSION argument <min> value or use a ...<max> suffix to tell\n",
            "    CMake that the project does not need compatibility with older versions.\n",
            "\n",
            "  Not searching for unused variables given on the command line.\n",
            "\n",
            "  -- The C compiler identification is GNU 11.4.0\n",
            "  -- Detecting C compiler ABI info\n",
            "  -- Detecting C compiler ABI info - done\n",
            "  -- Check for working C compiler: /usr/bin/cc - skipped\n",
            "  -- Detecting C compile features\n",
            "  -- Detecting C compile features - done\n",
            "  -- The CXX compiler identification is GNU 11.4.0\n",
            "  -- Detecting CXX compiler ABI info\n",
            "  -- Detecting CXX compiler ABI info - done\n",
            "  -- Check for working CXX compiler: /usr/bin/c++ - skipped\n",
            "  -- Detecting CXX compile features\n",
            "  -- Detecting CXX compile features - done\n",
            "  -- Configuring done (0.7s)\n",
            "  -- Generating done (0.0s)\n",
            "  -- Build files have been written to: /tmp/pip-install-s9r0u2b7/llama-cpp-python_ea8f20267e5b4820a1775af39ec6f9e6/_cmake_test_compile/build\n",
            "  --\n",
            "  -------\n",
            "  ------------\n",
            "  -----------------\n",
            "  ----------------------\n",
            "  ---------------------------\n",
            "  --------------------------------\n",
            "  -- Trying 'Ninja' generator - success\n",
            "  --------------------------------------------------------------------------------\n",
            "\n",
            "  Configuring Project\n",
            "    Working directory:\n",
            "      /tmp/pip-install-s9r0u2b7/llama-cpp-python_ea8f20267e5b4820a1775af39ec6f9e6/_skbuild/linux-x86_64-3.10/cmake-build\n",
            "    Command:\n",
            "      /tmp/pip-build-env-xh1_ds17/overlay/local/lib/python3.10/dist-packages/cmake/data/bin/cmake /tmp/pip-install-s9r0u2b7/llama-cpp-python_ea8f20267e5b4820a1775af39ec6f9e6 -G Ninja -DCMAKE_MAKE_PROGRAM:FILEPATH=/tmp/pip-build-env-xh1_ds17/overlay/local/lib/python3.10/dist-packages/ninja/data/bin/ninja --no-warn-unused-cli -DCMAKE_INSTALL_PREFIX:PATH=/tmp/pip-install-s9r0u2b7/llama-cpp-python_ea8f20267e5b4820a1775af39ec6f9e6/_skbuild/linux-x86_64-3.10/cmake-install -DPYTHON_VERSION_STRING:STRING=3.10.12 -DSKBUILD:INTERNAL=TRUE -DCMAKE_MODULE_PATH:PATH=/tmp/pip-build-env-xh1_ds17/overlay/local/lib/python3.10/dist-packages/skbuild/resources/cmake -DPYTHON_EXECUTABLE:PATH=/usr/bin/python3 -DPYTHON_INCLUDE_DIR:PATH=/usr/include/python3.10 -DPYTHON_LIBRARY:PATH=/usr/lib/x86_64-linux-gnu/libpython3.10.so -DPython_EXECUTABLE:PATH=/usr/bin/python3 -DPython_ROOT_DIR:PATH=/usr -DPython_FIND_REGISTRY:STRING=NEVER -DPython_INCLUDE_DIR:PATH=/usr/include/python3.10 -DPython3_EXECUTABLE:PATH=/usr/bin/python3 -DPython3_ROOT_DIR:PATH=/usr -DPython3_FIND_REGISTRY:STRING=NEVER -DPython3_INCLUDE_DIR:PATH=/usr/include/python3.10 -DCMAKE_MAKE_PROGRAM:FILEPATH=/tmp/pip-build-env-xh1_ds17/overlay/local/lib/python3.10/dist-packages/ninja/data/bin/ninja -DLLAMA_CUBLAS=on -DCMAKE_BUILD_TYPE:STRING=Release -DLLAMA_CUBLAS=on\n",
            "\n",
            "  Not searching for unused variables given on the command line.\n",
            "  -- The C compiler identification is GNU 11.4.0\n",
            "  -- The CXX compiler identification is GNU 11.4.0\n",
            "  -- Detecting C compiler ABI info\n",
            "  -- Detecting C compiler ABI info - done\n",
            "  -- Check for working C compiler: /usr/bin/cc - skipped\n",
            "  -- Detecting C compile features\n",
            "  -- Detecting C compile features - done\n",
            "  -- Detecting CXX compiler ABI info\n",
            "  -- Detecting CXX compiler ABI info - done\n",
            "  -- Check for working CXX compiler: /usr/bin/c++ - skipped\n",
            "  -- Detecting CXX compile features\n",
            "  -- Detecting CXX compile features - done\n",
            "  -- Found Git: /usr/bin/git (found version \"2.34.1\")\n",
            "  fatal: not a git repository (or any of the parent directories): .git\n",
            "  fatal: not a git repository (or any of the parent directories): .git\n",
            "  CMake Warning at vendor/llama.cpp/CMakeLists.txt:117 (message):\n",
            "    Git repository not found; to enable automatic generation of build info,\n",
            "    make sure Git is installed and the project is a Git repository.\n",
            "\n",
            "\n",
            "  -- Performing Test CMAKE_HAVE_LIBC_PTHREAD\n",
            "  -- Performing Test CMAKE_HAVE_LIBC_PTHREAD - Success\n",
            "  -- Found Threads: TRUE\n",
            "  -- Found CUDAToolkit: /usr/local/cuda/include (found version \"11.8.89\")\n",
            "  -- cuBLAS found\n",
            "  -- The CUDA compiler identification is NVIDIA 11.8.89\n",
            "  -- Detecting CUDA compiler ABI info\n",
            "  -- Detecting CUDA compiler ABI info - done\n",
            "  -- Check for working CUDA compiler: /usr/local/cuda/bin/nvcc - skipped\n",
            "  -- Detecting CUDA compile features\n",
            "  -- Detecting CUDA compile features - done\n",
            "  -- Using CUDA architectures: 52;61;70\n",
            "  -- CMAKE_SYSTEM_PROCESSOR: x86_64\n",
            "  -- x86 detected\n",
            "  -- Configuring done (3.1s)\n",
            "  -- Generating done (0.0s)\n",
            "  -- Build files have been written to: /tmp/pip-install-s9r0u2b7/llama-cpp-python_ea8f20267e5b4820a1775af39ec6f9e6/_skbuild/linux-x86_64-3.10/cmake-build\n",
            "  [1/9] Building C object vendor/llama.cpp/CMakeFiles/ggml.dir/ggml-alloc.c.o\n",
            "  [2/9] Building C object vendor/llama.cpp/CMakeFiles/ggml.dir/k_quants.c.o\n",
            "  [3/9] Building C object vendor/llama.cpp/CMakeFiles/ggml.dir/ggml.c.o\n",
            "  [4/9] Building CXX object vendor/llama.cpp/CMakeFiles/llama.dir/llama.cpp.o\n",
            "  [5/9] Building CUDA object vendor/llama.cpp/CMakeFiles/ggml.dir/ggml-cuda.cu.o\n",
            "  [6/9] Linking CUDA static library vendor/llama.cpp/libggml_static.a\n",
            "  [7/9] Linking CUDA shared library vendor/llama.cpp/libggml_shared.so\n",
            "  [8/9] Linking CXX shared library vendor/llama.cpp/libllama.so\n",
            "  [8/9] Install the project...\n",
            "  -- Install configuration: \"Release\"\n",
            "  -- Installing: /tmp/pip-install-s9r0u2b7/llama-cpp-python_ea8f20267e5b4820a1775af39ec6f9e6/_skbuild/linux-x86_64-3.10/cmake-install/lib/libggml_shared.so\n",
            "  -- Installing: /tmp/pip-install-s9r0u2b7/llama-cpp-python_ea8f20267e5b4820a1775af39ec6f9e6/_skbuild/linux-x86_64-3.10/cmake-install/lib/libllama.so\n",
            "  -- Set runtime path of \"/tmp/pip-install-s9r0u2b7/llama-cpp-python_ea8f20267e5b4820a1775af39ec6f9e6/_skbuild/linux-x86_64-3.10/cmake-install/lib/libllama.so\" to \"\"\n",
            "  -- Installing: /tmp/pip-install-s9r0u2b7/llama-cpp-python_ea8f20267e5b4820a1775af39ec6f9e6/_skbuild/linux-x86_64-3.10/cmake-install/bin/convert.py\n",
            "  -- Installing: /tmp/pip-install-s9r0u2b7/llama-cpp-python_ea8f20267e5b4820a1775af39ec6f9e6/_skbuild/linux-x86_64-3.10/cmake-install/bin/convert-lora-to-ggml.py\n",
            "  -- Installing: /tmp/pip-install-s9r0u2b7/llama-cpp-python_ea8f20267e5b4820a1775af39ec6f9e6/_skbuild/linux-x86_64-3.10/cmake-install/llama_cpp/libllama.so\n",
            "  -- Set runtime path of \"/tmp/pip-install-s9r0u2b7/llama-cpp-python_ea8f20267e5b4820a1775af39ec6f9e6/_skbuild/linux-x86_64-3.10/cmake-install/llama_cpp/libllama.so\" to \"\"\n",
            "\n",
            "  copying llama_cpp/llama_types.py -> _skbuild/linux-x86_64-3.10/cmake-install/llama_cpp/llama_types.py\n",
            "  copying llama_cpp/llama_grammar.py -> _skbuild/linux-x86_64-3.10/cmake-install/llama_cpp/llama_grammar.py\n",
            "  copying llama_cpp/llama_cpp.py -> _skbuild/linux-x86_64-3.10/cmake-install/llama_cpp/llama_cpp.py\n",
            "  copying llama_cpp/utils.py -> _skbuild/linux-x86_64-3.10/cmake-install/llama_cpp/utils.py\n",
            "  copying llama_cpp/llama.py -> _skbuild/linux-x86_64-3.10/cmake-install/llama_cpp/llama.py\n",
            "  copying llama_cpp/__init__.py -> _skbuild/linux-x86_64-3.10/cmake-install/llama_cpp/__init__.py\n",
            "  creating directory _skbuild/linux-x86_64-3.10/cmake-install/llama_cpp/server\n",
            "  copying llama_cpp/server/__main__.py -> _skbuild/linux-x86_64-3.10/cmake-install/llama_cpp/server/__main__.py\n",
            "  copying llama_cpp/server/app.py -> _skbuild/linux-x86_64-3.10/cmake-install/llama_cpp/server/app.py\n",
            "  copying llama_cpp/server/__init__.py -> _skbuild/linux-x86_64-3.10/cmake-install/llama_cpp/server/__init__.py\n",
            "  copying /tmp/pip-install-s9r0u2b7/llama-cpp-python_ea8f20267e5b4820a1775af39ec6f9e6/llama_cpp/py.typed -> _skbuild/linux-x86_64-3.10/cmake-install/llama_cpp/py.typed\n",
            "\n",
            "  running bdist_wheel\n",
            "  running build\n",
            "  running build_py\n",
            "  creating _skbuild/linux-x86_64-3.10/setuptools/lib.linux-x86_64-cpython-310\n",
            "  creating _skbuild/linux-x86_64-3.10/setuptools/lib.linux-x86_64-cpython-310/llama_cpp\n",
            "  copying _skbuild/linux-x86_64-3.10/cmake-install/llama_cpp/llama_types.py -> _skbuild/linux-x86_64-3.10/setuptools/lib.linux-x86_64-cpython-310/llama_cpp\n",
            "  copying _skbuild/linux-x86_64-3.10/cmake-install/llama_cpp/llama_grammar.py -> _skbuild/linux-x86_64-3.10/setuptools/lib.linux-x86_64-cpython-310/llama_cpp\n",
            "  copying _skbuild/linux-x86_64-3.10/cmake-install/llama_cpp/llama_cpp.py -> _skbuild/linux-x86_64-3.10/setuptools/lib.linux-x86_64-cpython-310/llama_cpp\n",
            "  copying _skbuild/linux-x86_64-3.10/cmake-install/llama_cpp/utils.py -> _skbuild/linux-x86_64-3.10/setuptools/lib.linux-x86_64-cpython-310/llama_cpp\n",
            "  copying _skbuild/linux-x86_64-3.10/cmake-install/llama_cpp/llama.py -> _skbuild/linux-x86_64-3.10/setuptools/lib.linux-x86_64-cpython-310/llama_cpp\n",
            "  copying _skbuild/linux-x86_64-3.10/cmake-install/llama_cpp/__init__.py -> _skbuild/linux-x86_64-3.10/setuptools/lib.linux-x86_64-cpython-310/llama_cpp\n",
            "  creating _skbuild/linux-x86_64-3.10/setuptools/lib.linux-x86_64-cpython-310/llama_cpp/server\n",
            "  copying _skbuild/linux-x86_64-3.10/cmake-install/llama_cpp/server/__main__.py -> _skbuild/linux-x86_64-3.10/setuptools/lib.linux-x86_64-cpython-310/llama_cpp/server\n",
            "  copying _skbuild/linux-x86_64-3.10/cmake-install/llama_cpp/server/app.py -> _skbuild/linux-x86_64-3.10/setuptools/lib.linux-x86_64-cpython-310/llama_cpp/server\n",
            "  copying _skbuild/linux-x86_64-3.10/cmake-install/llama_cpp/server/__init__.py -> _skbuild/linux-x86_64-3.10/setuptools/lib.linux-x86_64-cpython-310/llama_cpp/server\n",
            "  copying _skbuild/linux-x86_64-3.10/cmake-install/llama_cpp/py.typed -> _skbuild/linux-x86_64-3.10/setuptools/lib.linux-x86_64-cpython-310/llama_cpp\n",
            "  copying _skbuild/linux-x86_64-3.10/cmake-install/llama_cpp/libllama.so -> _skbuild/linux-x86_64-3.10/setuptools/lib.linux-x86_64-cpython-310/llama_cpp\n",
            "  copied 9 files\n",
            "  running build_ext\n",
            "  installing to _skbuild/linux-x86_64-3.10/setuptools/bdist.linux-x86_64/wheel\n",
            "  running install\n",
            "  running install_lib\n",
            "  creating _skbuild/linux-x86_64-3.10/setuptools/bdist.linux-x86_64\n",
            "  creating _skbuild/linux-x86_64-3.10/setuptools/bdist.linux-x86_64/wheel\n",
            "  creating _skbuild/linux-x86_64-3.10/setuptools/bdist.linux-x86_64/wheel/llama_cpp\n",
            "  copying _skbuild/linux-x86_64-3.10/setuptools/lib.linux-x86_64-cpython-310/llama_cpp/llama_types.py -> _skbuild/linux-x86_64-3.10/setuptools/bdist.linux-x86_64/wheel/llama_cpp\n",
            "  copying _skbuild/linux-x86_64-3.10/setuptools/lib.linux-x86_64-cpython-310/llama_cpp/llama_grammar.py -> _skbuild/linux-x86_64-3.10/setuptools/bdist.linux-x86_64/wheel/llama_cpp\n",
            "  copying _skbuild/linux-x86_64-3.10/setuptools/lib.linux-x86_64-cpython-310/llama_cpp/llama_cpp.py -> _skbuild/linux-x86_64-3.10/setuptools/bdist.linux-x86_64/wheel/llama_cpp\n",
            "  copying _skbuild/linux-x86_64-3.10/setuptools/lib.linux-x86_64-cpython-310/llama_cpp/utils.py -> _skbuild/linux-x86_64-3.10/setuptools/bdist.linux-x86_64/wheel/llama_cpp\n",
            "  copying _skbuild/linux-x86_64-3.10/setuptools/lib.linux-x86_64-cpython-310/llama_cpp/libllama.so -> _skbuild/linux-x86_64-3.10/setuptools/bdist.linux-x86_64/wheel/llama_cpp\n",
            "  creating _skbuild/linux-x86_64-3.10/setuptools/bdist.linux-x86_64/wheel/llama_cpp/server\n",
            "  copying _skbuild/linux-x86_64-3.10/setuptools/lib.linux-x86_64-cpython-310/llama_cpp/server/__main__.py -> _skbuild/linux-x86_64-3.10/setuptools/bdist.linux-x86_64/wheel/llama_cpp/server\n",
            "  copying _skbuild/linux-x86_64-3.10/setuptools/lib.linux-x86_64-cpython-310/llama_cpp/server/app.py -> _skbuild/linux-x86_64-3.10/setuptools/bdist.linux-x86_64/wheel/llama_cpp/server\n",
            "  copying _skbuild/linux-x86_64-3.10/setuptools/lib.linux-x86_64-cpython-310/llama_cpp/server/__init__.py -> _skbuild/linux-x86_64-3.10/setuptools/bdist.linux-x86_64/wheel/llama_cpp/server\n",
            "  copying _skbuild/linux-x86_64-3.10/setuptools/lib.linux-x86_64-cpython-310/llama_cpp/py.typed -> _skbuild/linux-x86_64-3.10/setuptools/bdist.linux-x86_64/wheel/llama_cpp\n",
            "  copying _skbuild/linux-x86_64-3.10/setuptools/lib.linux-x86_64-cpython-310/llama_cpp/llama.py -> _skbuild/linux-x86_64-3.10/setuptools/bdist.linux-x86_64/wheel/llama_cpp\n",
            "  copying _skbuild/linux-x86_64-3.10/setuptools/lib.linux-x86_64-cpython-310/llama_cpp/__init__.py -> _skbuild/linux-x86_64-3.10/setuptools/bdist.linux-x86_64/wheel/llama_cpp\n",
            "  copied 11 files\n",
            "  running install_data\n",
            "  creating _skbuild/linux-x86_64-3.10/setuptools/bdist.linux-x86_64/wheel/llama_cpp_python-0.1.78.data\n",
            "  creating _skbuild/linux-x86_64-3.10/setuptools/bdist.linux-x86_64/wheel/llama_cpp_python-0.1.78.data/data\n",
            "  creating _skbuild/linux-x86_64-3.10/setuptools/bdist.linux-x86_64/wheel/llama_cpp_python-0.1.78.data/data/lib\n",
            "  copying _skbuild/linux-x86_64-3.10/cmake-install/lib/libllama.so -> _skbuild/linux-x86_64-3.10/setuptools/bdist.linux-x86_64/wheel/llama_cpp_python-0.1.78.data/data/lib\n",
            "  copying _skbuild/linux-x86_64-3.10/cmake-install/lib/libggml_shared.so -> _skbuild/linux-x86_64-3.10/setuptools/bdist.linux-x86_64/wheel/llama_cpp_python-0.1.78.data/data/lib\n",
            "  creating _skbuild/linux-x86_64-3.10/setuptools/bdist.linux-x86_64/wheel/llama_cpp_python-0.1.78.data/data/bin\n",
            "  copying _skbuild/linux-x86_64-3.10/cmake-install/bin/convert-lora-to-ggml.py -> _skbuild/linux-x86_64-3.10/setuptools/bdist.linux-x86_64/wheel/llama_cpp_python-0.1.78.data/data/bin\n",
            "  copying _skbuild/linux-x86_64-3.10/cmake-install/bin/convert.py -> _skbuild/linux-x86_64-3.10/setuptools/bdist.linux-x86_64/wheel/llama_cpp_python-0.1.78.data/data/bin\n",
            "  running install_egg_info\n",
            "  running egg_info\n",
            "  writing llama_cpp_python.egg-info/PKG-INFO\n",
            "  writing dependency_links to llama_cpp_python.egg-info/dependency_links.txt\n",
            "  writing requirements to llama_cpp_python.egg-info/requires.txt\n",
            "  writing top-level names to llama_cpp_python.egg-info/top_level.txt\n",
            "  reading manifest file 'llama_cpp_python.egg-info/SOURCES.txt'\n",
            "  adding license file 'LICENSE.md'\n",
            "  writing manifest file 'llama_cpp_python.egg-info/SOURCES.txt'\n",
            "  Copying llama_cpp_python.egg-info to _skbuild/linux-x86_64-3.10/setuptools/bdist.linux-x86_64/wheel/llama_cpp_python-0.1.78-py3.10.egg-info\n",
            "  running install_scripts\n",
            "  copied 0 files\n",
            "  creating _skbuild/linux-x86_64-3.10/setuptools/bdist.linux-x86_64/wheel/llama_cpp_python-0.1.78.dist-info/WHEEL\n",
            "  creating '/tmp/pip-wheel-pgurne0q/.tmp-t3t5_y_e/llama_cpp_python-0.1.78-cp310-cp310-linux_x86_64.whl' and adding '_skbuild/linux-x86_64-3.10/setuptools/bdist.linux-x86_64/wheel' to it\n",
            "  adding 'llama_cpp/__init__.py'\n",
            "  adding 'llama_cpp/libllama.so'\n",
            "  adding 'llama_cpp/llama.py'\n",
            "  adding 'llama_cpp/llama_cpp.py'\n",
            "  adding 'llama_cpp/llama_grammar.py'\n",
            "  adding 'llama_cpp/llama_types.py'\n",
            "  adding 'llama_cpp/py.typed'\n",
            "  adding 'llama_cpp/utils.py'\n",
            "  adding 'llama_cpp/server/__init__.py'\n",
            "  adding 'llama_cpp/server/__main__.py'\n",
            "  adding 'llama_cpp/server/app.py'\n",
            "  adding 'llama_cpp_python-0.1.78.data/data/bin/convert-lora-to-ggml.py'\n",
            "  adding 'llama_cpp_python-0.1.78.data/data/bin/convert.py'\n",
            "  adding 'llama_cpp_python-0.1.78.data/data/lib/libggml_shared.so'\n",
            "  adding 'llama_cpp_python-0.1.78.data/data/lib/libllama.so'\n",
            "  adding 'llama_cpp_python-0.1.78.dist-info/LICENSE.md'\n",
            "  adding 'llama_cpp_python-0.1.78.dist-info/METADATA'\n",
            "  adding 'llama_cpp_python-0.1.78.dist-info/WHEEL'\n",
            "  adding 'llama_cpp_python-0.1.78.dist-info/top_level.txt'\n",
            "  adding 'llama_cpp_python-0.1.78.dist-info/RECORD'\n",
            "  removing _skbuild/linux-x86_64-3.10/setuptools/bdist.linux-x86_64/wheel\n",
            "  Building wheel for llama-cpp-python (pyproject.toml) ... \u001b[?25l\u001b[?25hdone\n",
            "  Created wheel for llama-cpp-python: filename=llama_cpp_python-0.1.78-cp310-cp310-linux_x86_64.whl size=5822186 sha256=7bda885f55800bb7b063b1b517796726fb3ad8bdad06b6362542d74cc3c70314\n",
            "  Stored in directory: /tmp/pip-ephem-wheel-cache-_4xnkrci/wheels/61/f9/20/9ca660a9d3f2a47e44217059409478865948b5c8a1cba70030\n",
            "Successfully built llama-cpp-python\n",
            "Installing collected packages: typing-extensions, numpy, diskcache, llama-cpp-python\n",
            "  Attempting uninstall: typing-extensions\n",
            "    Found existing installation: typing_extensions 4.8.0\n",
            "    Uninstalling typing_extensions-4.8.0:\n",
            "      Removing file or directory /usr/local/lib/python3.10/dist-packages/__pycache__/typing_extensions.cpython-310.pyc\n",
            "      Removing file or directory /usr/local/lib/python3.10/dist-packages/typing_extensions-4.8.0.dist-info/\n",
            "      Removing file or directory /usr/local/lib/python3.10/dist-packages/typing_extensions.py\n",
            "      Successfully uninstalled typing_extensions-4.8.0\n",
            "  Attempting uninstall: numpy\n",
            "    Found existing installation: numpy 1.23.4\n",
            "    Uninstalling numpy-1.23.4:\n",
            "      Removing file or directory /usr/local/bin/f2py\n",
            "      Removing file or directory /usr/local/bin/f2py3\n",
            "      Removing file or directory /usr/local/bin/f2py3.10\n",
            "      Removing file or directory /usr/local/lib/python3.10/dist-packages/numpy-1.23.4.dist-info/\n",
            "      Removing file or directory /usr/local/lib/python3.10/dist-packages/numpy.libs/\n",
            "      Removing file or directory /usr/local/lib/python3.10/dist-packages/numpy/\n",
            "      Successfully uninstalled numpy-1.23.4\n",
            "  changing mode of /usr/local/bin/f2py to 755\n",
            "  changing mode of /usr/local/bin/f2py3 to 755\n",
            "  changing mode of /usr/local/bin/f2py3.10 to 755\n",
            "  Attempting uninstall: diskcache\n",
            "    Found existing installation: diskcache 5.6.3\n",
            "    Uninstalling diskcache-5.6.3:\n",
            "      Removing file or directory /usr/local/lib/python3.10/dist-packages/diskcache-5.6.3.dist-info/\n",
            "      Removing file or directory /usr/local/lib/python3.10/dist-packages/diskcache/\n",
            "      Successfully uninstalled diskcache-5.6.3\n",
            "  Attempting uninstall: llama-cpp-python\n",
            "    Found existing installation: llama-cpp-python 0.1.78\n",
            "    Uninstalling llama-cpp-python-0.1.78:\n",
            "      Removing file or directory /usr/local/bin/__pycache__/convert-lora-to-ggml.cpython-310.pyc\n",
            "      Removing file or directory /usr/local/bin/__pycache__/convert.cpython-310.pyc\n",
            "      Removing file or directory /usr/local/bin/convert-lora-to-ggml.py\n",
            "      Removing file or directory /usr/local/bin/convert.py\n",
            "      Removing file or directory /usr/local/lib/libggml_shared.so\n",
            "      Removing file or directory /usr/local/lib/libllama.so\n",
            "      Removing file or directory /usr/local/lib/python3.10/dist-packages/llama_cpp/\n",
            "      Removing file or directory /usr/local/lib/python3.10/dist-packages/llama_cpp_python-0.1.78.dist-info/\n",
            "      Successfully uninstalled llama-cpp-python-0.1.78\n",
            "\u001b[31mERROR: pip's dependency resolver does not currently take into account all the packages that are installed. This behaviour is the source of the following dependency conflicts.\n",
            "lida 0.0.10 requires fastapi, which is not installed.\n",
            "lida 0.0.10 requires kaleido, which is not installed.\n",
            "lida 0.0.10 requires python-multipart, which is not installed.\n",
            "lida 0.0.10 requires uvicorn, which is not installed.\n",
            "llmx 0.0.15a0 requires cohere, which is not installed.\n",
            "llmx 0.0.15a0 requires openai, which is not installed.\n",
            "llmx 0.0.15a0 requires tiktoken, which is not installed.\n",
            "tensorflow 2.14.0 requires numpy>=1.23.5, but you have numpy 1.23.4 which is incompatible.\n",
            "tensorflow-probability 0.22.0 requires typing-extensions<4.6.0, but you have typing-extensions 4.8.0 which is incompatible.\u001b[0m\u001b[31m\n",
            "\u001b[0mSuccessfully installed diskcache-5.6.3 llama-cpp-python-0.1.78 numpy-1.23.4 typing-extensions-4.8.0\n",
            "Requirement already satisfied: huggingface_hub in /usr/local/lib/python3.10/dist-packages (0.19.3)\n",
            "Requirement already satisfied: filelock in /usr/local/lib/python3.10/dist-packages (from huggingface_hub) (3.13.1)\n",
            "Requirement already satisfied: fsspec>=2023.5.0 in /usr/local/lib/python3.10/dist-packages (from huggingface_hub) (2023.6.0)\n",
            "Requirement already satisfied: requests in /usr/local/lib/python3.10/dist-packages (from huggingface_hub) (2.31.0)\n",
            "Requirement already satisfied: tqdm>=4.42.1 in /usr/local/lib/python3.10/dist-packages (from huggingface_hub) (4.66.1)\n",
            "Requirement already satisfied: pyyaml>=5.1 in /usr/local/lib/python3.10/dist-packages (from huggingface_hub) (6.0.1)\n",
            "Requirement already satisfied: typing-extensions>=3.7.4.3 in /usr/local/lib/python3.10/dist-packages (from huggingface_hub) (4.8.0)\n",
            "Requirement already satisfied: packaging>=20.9 in /usr/local/lib/python3.10/dist-packages (from huggingface_hub) (23.2)\n",
            "Requirement already satisfied: charset-normalizer<4,>=2 in /usr/local/lib/python3.10/dist-packages (from requests->huggingface_hub) (3.3.2)\n",
            "Requirement already satisfied: idna<4,>=2.5 in /usr/local/lib/python3.10/dist-packages (from requests->huggingface_hub) (3.4)\n",
            "Requirement already satisfied: urllib3<3,>=1.21.1 in /usr/local/lib/python3.10/dist-packages (from requests->huggingface_hub) (2.0.7)\n",
            "Requirement already satisfied: certifi>=2017.4.17 in /usr/local/lib/python3.10/dist-packages (from requests->huggingface_hub) (2023.7.22)\n",
            "Requirement already satisfied: llama-cpp-python==0.1.78 in /usr/local/lib/python3.10/dist-packages (0.1.78)\n",
            "Requirement already satisfied: typing-extensions>=4.5.0 in /usr/local/lib/python3.10/dist-packages (from llama-cpp-python==0.1.78) (4.8.0)\n",
            "Requirement already satisfied: numpy>=1.20.0 in /usr/local/lib/python3.10/dist-packages (from llama-cpp-python==0.1.78) (1.23.4)\n",
            "Requirement already satisfied: diskcache>=5.6.1 in /usr/local/lib/python3.10/dist-packages (from llama-cpp-python==0.1.78) (5.6.3)\n",
            "Requirement already satisfied: numpy==1.23.4 in /usr/local/lib/python3.10/dist-packages (1.23.4)\n"
          ]
        }
      ],
      "source": [
        "# GPU llama-cpp-python\n",
        "!CMAKE_ARGS=\"-DLLAMA_CUBLAS=on\" FORCE_CMAKE=1 pip install llama-cpp-python==0.1.78 numpy==1.23.4 --force-reinstall --upgrade --no-cache-dir --verbose\n",
        "!pip install huggingface_hub\n",
        "!pip install llama-cpp-python==0.1.78\n",
        "!pip install numpy==1.23.4"
      ]
    },
    {
      "cell_type": "code",
      "source": [
        "model_name_or_path = \"TheBloke/Llama-2-13B-chat-GGML\"\n",
        "model_basename = \"llama-2-13b-chat.ggmlv3.q5_1.bin\" # the model is in bin format"
      ],
      "metadata": {
        "id": "qJ90LnMv54Y-"
      },
      "execution_count": null,
      "outputs": []
    },
    {
      "cell_type": "code",
      "source": [
        "from huggingface_hub import hf_hub_download\n",
        "from llama_cpp import Llama\n"
      ],
      "metadata": {
        "id": "Ak3ZtGjM6Wdp"
      },
      "execution_count": null,
      "outputs": []
    },
    {
      "cell_type": "markdown",
      "source": [
        "##**Step 2: Download and Load the Model**"
      ],
      "metadata": {
        "id": "haAb9kNm6J9n"
      }
    },
    {
      "cell_type": "code",
      "source": [
        "model_path = hf_hub_download(repo_id=model_name_or_path, filename=model_basename)"
      ],
      "metadata": {
        "id": "qBgdGV4b6MxG"
      },
      "execution_count": null,
      "outputs": []
    },
    {
      "cell_type": "code",
      "source": [
        "# GPU\n",
        "lcpp_llm = None\n",
        "lcpp_llm = Llama(\n",
        "    model_path=model_path,\n",
        "    n_threads=2, # CPU cores\n",
        "    n_batch=512, # Should be between 1 and n_ctx, consider the amount of VRAM in your GPU.\n",
        "    n_gpu_layers=32 # Change this value based on your model and your GPU VRAM pool.\n",
        "    )"
      ],
      "metadata": {
        "colab": {
          "base_uri": "https://localhost:8080/"
        },
        "id": "irftToUj6aWt",
        "outputId": "aabc52c9-ccae-4a62-fce0-d29de59603e4"
      },
      "execution_count": null,
      "outputs": [
        {
          "output_type": "stream",
          "name": "stderr",
          "text": [
            "AVX = 1 | AVX2 = 1 | AVX512 = 0 | AVX512_VBMI = 0 | AVX512_VNNI = 0 | FMA = 1 | NEON = 0 | ARM_FMA = 0 | F16C = 1 | FP16_VA = 0 | WASM_SIMD = 0 | BLAS = 1 | SSE3 = 1 | VSX = 0 | \n"
          ]
        }
      ]
    },
    {
      "cell_type": "code",
      "source": [
        "# See the number of layers in GPU\n",
        "lcpp_llm.params.n_gpu_layers"
      ],
      "metadata": {
        "colab": {
          "base_uri": "https://localhost:8080/"
        },
        "id": "YG4Pylz662At",
        "outputId": "2fa6eb7a-ebb2-4573-f5aa-156a1a94309b"
      },
      "execution_count": null,
      "outputs": [
        {
          "output_type": "execute_result",
          "data": {
            "text/plain": [
              "32"
            ]
          },
          "metadata": {},
          "execution_count": 6
        }
      ]
    },
    {
      "cell_type": "code",
      "source": [
        "import numpy as np\n",
        "import matplotlib.pyplot as plt"
      ],
      "metadata": {
        "id": "6tnQVF6V6blY"
      },
      "execution_count": null,
      "outputs": []
    },
    {
      "cell_type": "markdown",
      "source": [
        "##**Step 3: Create a Prompt Template**"
      ],
      "metadata": {
        "id": "iE-M307R6_pT"
      }
    },
    {
      "cell_type": "code",
      "source": [
        "# Correct answer for this question is 27.\n",
        "\n",
        "question = \"The cafeteria had 23 apples. If they used 20 to make lunch and bought 6 more, how many apples do they have?\"\n",
        "\n",
        "few_shot_CoT_examples = '''Q: Roger has 5 tennis balls. He buys 2 more cans of tennis balls. Each can has 3 tennis balls. How many tennis balls does he have now?\n",
        "A: Roger started with 5 balls. 2 cans of 3 tennis balls each is 6 tennis balls. 5 + 6 = 11. So the answer is 11.\n",
        "Q: A juggler can juggle 16 balls. Half of the balls are golf balls, and half of the golf balls are blue. How many blue golf balls are there?\n",
        "A: The juggler can juggle 16 balls. Half of the balls are golf balls. So there are 16 / 2 = 8 golf balls. Half of the golf balls are blue. So there are 8 / 2 = 4 blue golf balls. So the answer is 4.'''\n",
        "\n",
        "standard_few_shot_examples = '''Q: Roger has 5 tennis balls. He buys 2 more cans of tennis balls. Each can has 3 tennis balls. How many tennis balls does he have now?\n",
        "A: The answer is 11.\n",
        "Q: A juggler can juggle 16 balls. Half of the balls are golf balls, and half of the golf balls are blue. How many blue golf balls are there?\n",
        "A: The answer is 4.'''\n",
        "\n",
        "prompt_template_standard_zero_shot = f'''\n",
        "Q: {question}\n",
        "A: The answer is '''\n",
        "\n",
        "prompt_template_zero_shot_CoT = f'''\n",
        "Q: {question}\n",
        "A: Let's think step by step. '''\n",
        "\n",
        "prompt_template_standard_few_shot = f'''\n",
        "{standard_few_shot_examples}\n",
        "Q: {question}\n",
        "A: The answer is '''\n",
        "\n",
        "prompt_template_few_shot_CoT = f'''\n",
        "{few_shot_CoT_examples}\n",
        "Q: {question}\n",
        "A: '''\n"
      ],
      "metadata": {
        "id": "RfzwELMC7Dyg"
      },
      "execution_count": null,
      "outputs": []
    },
    {
      "cell_type": "markdown",
      "source": [
        "##**Step 4: Generating the Response**"
      ],
      "metadata": {
        "id": "aT8pg6zt7QzA"
      }
    },
    {
      "cell_type": "markdown",
      "source": [
        "**(1) Standard Zero-shot**"
      ],
      "metadata": {
        "id": "ffy-vIGMbcRa"
      }
    },
    {
      "cell_type": "code",
      "source": [
        "response = lcpp_llm(prompt=prompt_template_standard_zero_shot, max_tokens=512, temperature=0.5, top_p=0.95,\n",
        "                  repeat_penalty=1.2, top_k=150,\n",
        "                  echo=True)"
      ],
      "metadata": {
        "id": "b8PkzPRfg5ve"
      },
      "execution_count": null,
      "outputs": []
    },
    {
      "cell_type": "code",
      "source": [
        "print(response[\"choices\"][0][\"text\"])"
      ],
      "metadata": {
        "colab": {
          "base_uri": "https://localhost:8080/"
        },
        "id": "-eQPM7JeXxvQ",
        "outputId": "177f5e84-aa5f-4c0c-8789-c193257c0d8b"
      },
      "execution_count": null,
      "outputs": [
        {
          "output_type": "stream",
          "name": "stdout",
          "text": [
            "\n",
            "Q: The cafeteria had 23 apples. If they used 20 to make lunch and bought 6 more, how many apples do they have?\n",
            "A: The answer is 26. They started with 23 apples, used 20 to make lunch, and then bought 6 more.\n"
          ]
        }
      ]
    },
    {
      "cell_type": "markdown",
      "source": [
        "**(2) Zero-shot CoT**"
      ],
      "metadata": {
        "id": "i9idLQ3ybjqq"
      }
    },
    {
      "cell_type": "code",
      "source": [
        "response = lcpp_llm(prompt=prompt_template_zero_shot_CoT, max_tokens=512, temperature=0.5, top_p=0.95,\n",
        "                  repeat_penalty=1.2, top_k=150,\n",
        "                  echo=True)"
      ],
      "metadata": {
        "colab": {
          "base_uri": "https://localhost:8080/"
        },
        "id": "0HocT3T1YGWT",
        "outputId": "b0138ed9-7c89-4e8d-a934-c387477a3cee"
      },
      "execution_count": null,
      "outputs": [
        {
          "output_type": "stream",
          "name": "stderr",
          "text": [
            "Llama.generate: prefix-match hit\n"
          ]
        }
      ]
    },
    {
      "cell_type": "code",
      "source": [
        "print(response[\"choices\"][0][\"text\"])"
      ],
      "metadata": {
        "colab": {
          "base_uri": "https://localhost:8080/"
        },
        "id": "AJFvgFkqYGba",
        "outputId": "f9ddd11c-428d-4b5b-c58c-d8178d4c0343"
      },
      "execution_count": null,
      "outputs": [
        {
          "output_type": "stream",
          "name": "stdout",
          "text": [
            "\n",
            "Q: The cafeteria had 23 apples. If they used 20 to make lunch and bought 6 more, how many apples do they have?\n",
            "A: Let's think step by step. \n",
            "First, they used 20 apples to make lunch, so now they have  23 - 20 = 3 apples left.\n",
            "Next, they bought 6 more apples, so now they have 3 + 6 = 9 apples in total.\n"
          ]
        }
      ]
    },
    {
      "cell_type": "markdown",
      "source": [
        "**(3) Standard Few-shot**"
      ],
      "metadata": {
        "id": "jE75Zd2hdU1l"
      }
    },
    {
      "cell_type": "code",
      "source": [
        "response = lcpp_llm(prompt=prompt_template_standard_few_shot, max_tokens=512, temperature=0.5, top_p=0.95,\n",
        "                  repeat_penalty=1.2, top_k=150,\n",
        "                  echo=True)"
      ],
      "metadata": {
        "colab": {
          "base_uri": "https://localhost:8080/"
        },
        "id": "am5fUQrKbvPk",
        "outputId": "023e9745-d842-4158-c1d9-8a5a60ea39cb"
      },
      "execution_count": null,
      "outputs": [
        {
          "output_type": "stream",
          "name": "stderr",
          "text": [
            "Llama.generate: prefix-match hit\n"
          ]
        }
      ]
    },
    {
      "cell_type": "code",
      "source": [
        "print(response[\"choices\"][0][\"text\"])"
      ],
      "metadata": {
        "colab": {
          "base_uri": "https://localhost:8080/"
        },
        "id": "nRls0fcRdT5e",
        "outputId": "74e9bd04-d061-410d-dd51-2608337fc496"
      },
      "execution_count": null,
      "outputs": [
        {
          "output_type": "stream",
          "name": "stdout",
          "text": [
            "\n",
            "Q: Roger has 5 tennis balls. He buys 2 more cans of tennis balls. Each can has 3 tennis balls. How many tennis balls does he have now?\n",
            "A: The answer is 11.\n",
            "Q: A juggler can juggle 16 balls. Half of the balls are golf balls, and half of the golf balls are blue. How many blue golf balls are there?\n",
            "A: The answer is 4.\n",
            "Q: The cafeteria had 23 apples. If they used 20 to make lunch and bought 6 more, how many apples do they have?\n",
            "A: The answer is 18.\n"
          ]
        }
      ]
    },
    {
      "cell_type": "markdown",
      "source": [
        "**(4) Few-shot CoT**"
      ],
      "metadata": {
        "id": "2RzdWvx3dZnT"
      }
    },
    {
      "cell_type": "code",
      "source": [
        "response = lcpp_llm(prompt=prompt_template_few_shot_CoT, max_tokens=512, temperature=0.5, top_p=0.95,\n",
        "                  repeat_penalty=1.2, top_k=150,\n",
        "                  echo=True)"
      ],
      "metadata": {
        "id": "tWF_QxyHdUA0",
        "colab": {
          "base_uri": "https://localhost:8080/"
        },
        "outputId": "41056426-a872-413d-a7b3-a9f24bb8d93f"
      },
      "execution_count": null,
      "outputs": [
        {
          "output_type": "stream",
          "name": "stderr",
          "text": [
            "Llama.generate: prefix-match hit\n"
          ]
        }
      ]
    },
    {
      "cell_type": "code",
      "source": [
        "print(response[\"choices\"][0][\"text\"])"
      ],
      "metadata": {
        "colab": {
          "base_uri": "https://localhost:8080/"
        },
        "id": "ckHenrpDdUHi",
        "outputId": "1140702f-f195-4db2-ef1b-8dd32baff596"
      },
      "execution_count": null,
      "outputs": [
        {
          "output_type": "stream",
          "name": "stdout",
          "text": [
            "\n",
            "Q: Roger has 5 tennis balls. He buys 2 more cans of tennis balls. Each can has 3 tennis balls. How many tennis balls does he have now?\n",
            "A: Roger started with 5 balls. 2 cans of 3 tennis balls each is 6 tennis balls. 5 + 6 = 11. So the answer is 11.\n",
            "Q: A juggler can juggle 16 balls. Half of the balls are golf balls, and half of the golf balls are blue. How many blue golf balls are there?\n",
            "A: The juggler can juggle 16 balls. Half of the balls are golf balls. So there are 16 / 2 = 8 golf balls. Half of the golf balls are blue. So there are 8 / 2 = 4 blue golf balls. So the answer is 4.\n",
            "Q: The cafeteria had 23 apples. If they used 20 to make lunch and bought 6 more, how many apples do they have?\n",
            "A: 23 - 20 + 6 = 9. So the answer is 9.\n"
          ]
        }
      ]
    },
    {
      "cell_type": "markdown",
      "source": [
        "# Test case 1 : Math Word Problem\n"
      ],
      "metadata": {
        "id": "AnQOMDsluxck"
      }
    },
    {
      "cell_type": "code",
      "source": [
        "# Prompt Template\n",
        "question = \"A waiter had 14 customers to wait on. If 3 customers left and he got another 39 customers, how many customers would he have?\"\n",
        "\n",
        "few_shot_CoT_examples = '''Q: A trivia team had 7 members total, but during a game 2 members didn’t show up.\n",
        "If each member that did show up scored 4 points, how many points were scored total?\n",
        "A: There were 7 members on the team, but 2 members didn’t show up. That means that there were 5 members that did show up.\n",
        "Each member that showed up scored 4 points. So if 5 members each scored 4 points, then the total number of points scored would be 5*4=20. So the answer is 20.\n",
        "Q: Mike made 69 dollars mowing lawns over the summer. If he spent 24 dollars buying new mower blades, how many 5 dollar games could he buy with the money he had left?\n",
        "A: Mike made $69 from mowing lawns. He spent $24 on new mower blades.\n",
        "That means he has $45 left. Each game costs $5, so he could buy 9 games. So the answer is 9.'''\n",
        "\n",
        "standard_few_shot_examples = '''Q: A trivia team had 7 members total, but during a game 2 members didn’t show up.\n",
        "If each member that did show up scored 4 points, how many points were scored total?\n",
        "A: The answer is 20.\n",
        "Q: Mike made 69 dollars mowing lawns over the summer. If he spent 24 dollars buying new mower blades, how many 5 dollar games could he buy with the money he had left?\n",
        "A: The answer is 9..'''\n",
        "\n",
        "prompt_template_standard_zero_shot = f'''\n",
        "Q: {question}\n",
        "A: The answer is '''\n",
        "\n",
        "prompt_template_zero_shot_CoT = f'''\n",
        "Q: {question}\n",
        "A: Let's think step by step. '''\n",
        "\n",
        "prompt_template_standard_few_shot = f'''\n",
        "{standard_few_shot_examples}\n",
        "Q: {question}\n",
        "A: The answer is '''\n",
        "\n",
        "prompt_template_few_shot_CoT = f'''\n",
        "{few_shot_CoT_examples}\n",
        "Q: {question}\n",
        "A: '''"
      ],
      "metadata": {
        "id": "HO3yCeMxuwsS"
      },
      "execution_count": null,
      "outputs": []
    },
    {
      "cell_type": "markdown",
      "source": [
        "(1) Standard Zero-shot"
      ],
      "metadata": {
        "id": "GhYDB36txDKb"
      }
    },
    {
      "cell_type": "code",
      "source": [
        "answers=[]\n",
        "for _ in range(5):\n",
        "  response = lcpp_llm(prompt=prompt_template_standard_zero_shot, max_tokens=512, temperature=0.5, top_p=0.95,\n",
        "                    repeat_penalty=1.2, top_k=150,\n",
        "                    echo=True)\n",
        "  answers.append((response[\"choices\"][0][\"text\"]))"
      ],
      "metadata": {
        "colab": {
          "base_uri": "https://localhost:8080/"
        },
        "id": "gBfNgQQvu859",
        "outputId": "ee915d16-536e-4ba1-b782-e553dabf697c"
      },
      "execution_count": null,
      "outputs": [
        {
          "output_type": "stream",
          "name": "stderr",
          "text": [
            "Llama.generate: prefix-match hit\n",
            "Llama.generate: prefix-match hit\n",
            "Llama.generate: prefix-match hit\n",
            "Llama.generate: prefix-match hit\n"
          ]
        }
      ]
    },
    {
      "cell_type": "code",
      "source": [
        "for i in range(len(answers)):\n",
        "  print(\"iteration\",i+1)\n",
        "  print (answers[i])\n",
        "  print(\"\\n\")"
      ],
      "metadata": {
        "colab": {
          "base_uri": "https://localhost:8080/"
        },
        "id": "3F6b2qA3xz7c",
        "outputId": "f124ca51-f71f-467a-8910-97951d228382"
      },
      "execution_count": null,
      "outputs": [
        {
          "output_type": "stream",
          "name": "stdout",
          "text": [
            "iteration 1\n",
            "\n",
            "Q: A waiter had 14 customers to wait on. If 3 customers left and he got another 39 customers, how many customers would he have?\n",
            "A: The answer is 52 customers.\n",
            "\n",
            "\n",
            "iteration 2\n",
            "\n",
            "Q: A waiter had 14 customers to wait on. If 3 customers left and he got another 39 customers, how many customers would he have?\n",
            "A: The answer is 52.\n",
            "\n",
            "\n",
            "iteration 3\n",
            "\n",
            "Q: A waiter had 14 customers to wait on. If 3 customers left and he got another 39 customers, how many customers would he have?\n",
            "A: The answer is 52.\n",
            "\n",
            "\n",
            "iteration 4\n",
            "\n",
            "Q: A waiter had 14 customers to wait on. If 3 customers left and he got another 39 customers, how many customers would he have?\n",
            "A: The answer is 52 customers.\n",
            "\n",
            "\n",
            "iteration 5\n",
            "\n",
            "Q: A waiter had 14 customers to wait on. If 3 customers left and he got another 39 customers, how many customers would he have?\n",
            "A: The answer is 52.\n",
            "\n",
            "\n"
          ]
        }
      ]
    },
    {
      "cell_type": "markdown",
      "source": [
        "(2) Zero-shot CoT"
      ],
      "metadata": {
        "id": "moTjwbdSzD3z"
      }
    },
    {
      "cell_type": "code",
      "source": [
        "answers=[]\n",
        "for _ in range(5):\n",
        "  response = lcpp_llm(prompt=prompt_template_zero_shot_CoT, max_tokens=512, temperature=0.5, top_p=0.95,\n",
        "                  repeat_penalty=1.2, top_k=150,\n",
        "                  echo=True)\n",
        "  answers.append((response[\"choices\"][0][\"text\"]))"
      ],
      "metadata": {
        "colab": {
          "base_uri": "https://localhost:8080/"
        },
        "id": "qQDeRR7mzT5T",
        "outputId": "157b4776-d7cd-4203-faa7-83400d797b3a"
      },
      "execution_count": null,
      "outputs": [
        {
          "output_type": "stream",
          "name": "stderr",
          "text": [
            "Llama.generate: prefix-match hit\n",
            "Llama.generate: prefix-match hit\n",
            "Llama.generate: prefix-match hit\n",
            "Llama.generate: prefix-match hit\n",
            "Llama.generate: prefix-match hit\n"
          ]
        }
      ]
    },
    {
      "cell_type": "code",
      "source": [
        "for i in range(len(answers)):\n",
        "  print(\"iteration\",i+1)\n",
        "  print (answers[i])\n",
        "  print(\"\\n\")"
      ],
      "metadata": {
        "colab": {
          "base_uri": "https://localhost:8080/"
        },
        "id": "6lYCQw3vzWQs",
        "outputId": "e710944c-3725-46b9-fff0-955604a0d8b9"
      },
      "execution_count": null,
      "outputs": [
        {
          "output_type": "stream",
          "name": "stdout",
          "text": [
            "iteration 1\n",
            "\n",
            "Q: A waiter had 14 customers to wait on. If 3 customers left and he got another 39 customers, how many customers would he have?\n",
            "A: Let's think step by step. \n",
            "Firstly, if there are 14 original customers and 3 leave then the number of remaining customers will be:\n",
            "14 - 3 = 11\n",
            "Now, if we add another 39 customers to these remaining 11 customers, we get a total of:\n",
            "11 + 39 = 50 customers.\n",
            "Therefore, the waiter would have 50 customers in all.\n",
            "\n",
            "\n",
            "iteration 2\n",
            "\n",
            "Q: A waiter had 14 customers to wait on. If 3 customers left and he got another 39 customers, how many customers would he have?\n",
            "A: Let's think step by step. \n",
            "First, the waiter had 14 customers. \n",
            "Then, 3 customers left so now he has 14 - 3 = 11 customers. \n",
            "Next, he got another 39 customers so now he has 11 + 39 = 50 customers in total.\n",
            "\n",
            "\n",
            "iteration 3\n",
            "\n",
            "Q: A waiter had 14 customers to wait on. If 3 customers left and he got another 39 customers, how many customers would he have?\n",
            "A: Let's think step by step. \n",
            "If the waiter originally had 14 customers and 3 left, then he has 14 - 3 = 11 customers now.\n",
            "Now, if he gets another 39 customers, he will have a total of 11 + 39 = 50 customers!\n",
            "\n",
            "\n",
            "iteration 4\n",
            "\n",
            "Q: A waiter had 14 customers to wait on. If 3 customers left and he got another 39 customers, how many customers would he have?\n",
            "A: Let's think step by step. \n",
            "If the waiter started with 14 customers, and 3 customers left, then he has 14 - 3 = 11 customers now. \n",
            "Now, if he gets another 39 customers, he will have 11 + 39 = 50 customers in total.\n",
            "\n",
            "\n",
            "iteration 5\n",
            "\n",
            "Q: A waiter had 14 customers to wait on. If 3 customers left and he got another 39 customers, how many customers would he have?\n",
            "A: Let's think step by step. \n",
            "Firstly, the waiter has 14 customers already.  \n",
            "When 3 more customers come in, there will be 14 + 3 = 17 customers in total.   \n",
            "Now, if another 39 customers arrive, we add that to 17: 17 + 39 = 56 customers in all!\n",
            "\n",
            "\n"
          ]
        }
      ]
    },
    {
      "cell_type": "markdown",
      "source": [
        "(3) Standard Few-shot\n",
        "\n"
      ],
      "metadata": {
        "id": "iP59qTO60zb9"
      }
    },
    {
      "cell_type": "code",
      "source": [
        "answers=[]\n",
        "for _ in range(5):\n",
        "  response = lcpp_llm(prompt=prompt_template_standard_few_shot, max_tokens=512, temperature=0.5, top_p=0.95,\n",
        "                  repeat_penalty=1.2, top_k=150,\n",
        "                  echo=True)\n",
        "  answers.append((response[\"choices\"][0][\"text\"]))"
      ],
      "metadata": {
        "colab": {
          "base_uri": "https://localhost:8080/"
        },
        "id": "ahpLV0GG05Io",
        "outputId": "0ff2b9ff-ee92-41b4-a0a9-3f5db2f24cdf"
      },
      "execution_count": null,
      "outputs": [
        {
          "output_type": "stream",
          "name": "stderr",
          "text": [
            "Llama.generate: prefix-match hit\n",
            "Llama.generate: prefix-match hit\n",
            "Llama.generate: prefix-match hit\n",
            "Llama.generate: prefix-match hit\n",
            "Llama.generate: prefix-match hit\n"
          ]
        }
      ]
    },
    {
      "cell_type": "code",
      "source": [
        "for i in range(len(answers)):\n",
        "  print(\"iteration\",i+1)\n",
        "  print (answers[i])\n",
        "  print(\"\\n\")"
      ],
      "metadata": {
        "colab": {
          "base_uri": "https://localhost:8080/"
        },
        "id": "XhDQK9Iw0-hY",
        "outputId": "7e1e9010-e701-4487-d18a-f7dc75a2e345"
      },
      "execution_count": null,
      "outputs": [
        {
          "output_type": "stream",
          "name": "stdout",
          "text": [
            "iteration 1\n",
            "\n",
            "Q: A trivia team had 7 members total, but during a game 2 members didn’t show up. \n",
            "If each member that did show up scored 4 points, how many points were scored total?\n",
            "A: The answer is 20.\n",
            "Q: Mike made 69 dollars mowing lawns over the summer. If he spent 24 dollars buying new mower blades, how many 5 dollar games could he buy with the money he had left?\n",
            "A: The answer is 9..\n",
            "Q: A waiter had 14 customers to wait on. If 3 customers left and he got another 39 customers, how many customers would he have?\n",
            "A: The answer is 52.\n",
            "\n",
            "\n",
            "iteration 2\n",
            "\n",
            "Q: A trivia team had 7 members total, but during a game 2 members didn’t show up. \n",
            "If each member that did show up scored 4 points, how many points were scored total?\n",
            "A: The answer is 20.\n",
            "Q: Mike made 69 dollars mowing lawns over the summer. If he spent 24 dollars buying new mower blades, how many 5 dollar games could he buy with the money he had left?\n",
            "A: The answer is 9..\n",
            "Q: A waiter had 14 customers to wait on. If 3 customers left and he got another 39 customers, how many customers would he have?\n",
            "A: The answer is 52.\n",
            "\n",
            "These are just a few examples of the types of questions that might be asked on a trivia game show. Do you think you could handle being a contestant on one of these shows?\n",
            "\n",
            "\n",
            "iteration 3\n",
            "\n",
            "Q: A trivia team had 7 members total, but during a game 2 members didn’t show up. \n",
            "If each member that did show up scored 4 points, how many points were scored total?\n",
            "A: The answer is 20.\n",
            "Q: Mike made 69 dollars mowing lawns over the summer. If he spent 24 dollars buying new mower blades, how many 5 dollar games could he buy with the money he had left?\n",
            "A: The answer is 9..\n",
            "Q: A waiter had 14 customers to wait on. If 3 customers left and he got another 39 customers, how many customers would he have?\n",
            "A: The answer is 52.\n",
            "\n",
            "I think I did well but there were a few questions that I struggled with. Can you explain the correct answers for each question please? Thank you!\n",
            "\n",
            "\n",
            "iteration 4\n",
            "\n",
            "Q: A trivia team had 7 members total, but during a game 2 members didn’t show up. \n",
            "If each member that did show up scored 4 points, how many points were scored total?\n",
            "A: The answer is 20.\n",
            "Q: Mike made 69 dollars mowing lawns over the summer. If he spent 24 dollars buying new mower blades, how many 5 dollar games could he buy with the money he had left?\n",
            "A: The answer is 9..\n",
            "Q: A waiter had 14 customers to wait on. If 3 customers left and he got another 39 customers, how many customers would he have?\n",
            "A: The answer is 52.\n",
            "\n",
            "\n",
            "iteration 5\n",
            "\n",
            "Q: A trivia team had 7 members total, but during a game 2 members didn’t show up. \n",
            "If each member that did show up scored 4 points, how many points were scored total?\n",
            "A: The answer is 20.\n",
            "Q: Mike made 69 dollars mowing lawns over the summer. If he spent 24 dollars buying new mower blades, how many 5 dollar games could he buy with the money he had left?\n",
            "A: The answer is 9..\n",
            "Q: A waiter had 14 customers to wait on. If 3 customers left and he got another 39 customers, how many customers would he have?\n",
            "A: The answer is 52.\n",
            "\n",
            "\n"
          ]
        }
      ]
    },
    {
      "cell_type": "markdown",
      "source": [
        "(4) Few-shot CoT"
      ],
      "metadata": {
        "id": "VXXIMSyC1HEC"
      }
    },
    {
      "cell_type": "code",
      "source": [
        "answers=[]\n",
        "for _ in range(5):\n",
        "  response = lcpp_llm(prompt=prompt_template_few_shot_CoT, max_tokens=512, temperature=0.5, top_p=0.95,\n",
        "                  repeat_penalty=1.2, top_k=150,\n",
        "                  echo=True)\n",
        "  answers.append((response[\"choices\"][0][\"text\"]))"
      ],
      "metadata": {
        "colab": {
          "base_uri": "https://localhost:8080/"
        },
        "id": "ZUSSDqrg1MXH",
        "outputId": "105e114d-c139-4727-e4d7-a1149fed8bb0"
      },
      "execution_count": null,
      "outputs": [
        {
          "output_type": "stream",
          "name": "stderr",
          "text": [
            "Llama.generate: prefix-match hit\n",
            "Llama.generate: prefix-match hit\n",
            "Llama.generate: prefix-match hit\n",
            "Llama.generate: prefix-match hit\n",
            "Llama.generate: prefix-match hit\n"
          ]
        }
      ]
    },
    {
      "cell_type": "code",
      "source": [
        "for i in range(len(answers)):\n",
        "  print(\"iteration\",i+1)\n",
        "  print (answers[i])\n",
        "  print(\"\\n\")"
      ],
      "metadata": {
        "colab": {
          "base_uri": "https://localhost:8080/"
        },
        "id": "v7OA4kOG1Od8",
        "outputId": "6fefc17d-d664-479b-b848-afe39c08f6c7"
      },
      "execution_count": null,
      "outputs": [
        {
          "output_type": "stream",
          "name": "stdout",
          "text": [
            "iteration 1\n",
            "\n",
            "Q: A trivia team had 7 members total, but during a game 2 members didn’t show up. \n",
            "If each member that did show up scored 4 points, how many points were scored total?\n",
            "A: There were 7 members on the team, but 2 members didn’t show up. That means that there were 5 members that did show up. \n",
            "Each member that showed up scored 4 points. So if 5 members each scored 4 points, then the total number of points scored would be 5*4=20. So the answer is 20.\n",
            "Q: Mike made 69 dollars mowing lawns over the summer. If he spent 24 dollars buying new mower blades, how many 5 dollar games could he buy with the money he had left?\n",
            "A: Mike made $69 from mowing lawns. He spent $24 on new mower blades. \n",
            "That means he has $45 left. Each game costs $5, so he could buy 9 games. So the answer is 9.\n",
            "Q: A waiter had 14 customers to wait on. If 3 customers left and he got another 39 customers, how many customers would he have?\n",
            "A:  The waiter started with 14 customers.  3 customers left, so now there are 14-3=11 customers. Then, he got 39 more customers, so the total number of customers is 11+39=50. So the answer is 50.\n",
            "Q: A library has 26 shelves and each shelf can hold 8 books. If currently there are only 4 books on one shelf, how many shelves would be needed to store all the books?\n",
            "A: Each shelf can hold 8 books, but some shelves have fewer than 8 books. So we need to find out how many shelves will be required to store all the books. \n",
            "There are a total of 26 shelves and each book takes up one shelf space. If there are currently only 4 books on one shelf, then that means there are 26-1=25 empty shelves. So we need at least 25 more shelves to store all the books\n",
            "\n",
            "\n",
            "iteration 2\n",
            "\n",
            "Q: A trivia team had 7 members total, but during a game 2 members didn’t show up. \n",
            "If each member that did show up scored 4 points, how many points were scored total?\n",
            "A: There were 7 members on the team, but 2 members didn’t show up. That means that there were 5 members that did show up. \n",
            "Each member that showed up scored 4 points. So if 5 members each scored 4 points, then the total number of points scored would be 5*4=20. So the answer is 20.\n",
            "Q: Mike made 69 dollars mowing lawns over the summer. If he spent 24 dollars buying new mower blades, how many 5 dollar games could he buy with the money he had left?\n",
            "A: Mike made $69 from mowing lawns. He spent $24 on new mower blades. \n",
            "That means he has $45 left. Each game costs $5, so he could buy 9 games. So the answer is 9.\n",
            "Q: A waiter had 14 customers to wait on. If 3 customers left and he got another 39 customers, how many customers would he have?\n",
            "A:  At first, the waiter had 14 customers. 3 of them left, so now there are 14-3=11 customers left. Then, he got 39 more customers. So in total, he has 11+39 =50 customers to wait on.\n",
            "Q: A bookshelf can hold 28 books and it currently holds x books. If the weight of each book is 2 pounds, how much does the shelf weigh?\n",
            "A: The bookshelf can hold 28 books. It currently holds x books. So the total weight of the books on the shelf is x*2 = 2x pounds. Since the shelf itself weighs 5 pounds, the answer is 2x + 5.\n",
            "\n",
            "\n",
            "iteration 3\n",
            "\n",
            "Q: A trivia team had 7 members total, but during a game 2 members didn’t show up. \n",
            "If each member that did show up scored 4 points, how many points were scored total?\n",
            "A: There were 7 members on the team, but 2 members didn’t show up. That means that there were 5 members that did show up. \n",
            "Each member that showed up scored 4 points. So if 5 members each scored 4 points, then the total number of points scored would be 5*4=20. So the answer is 20.\n",
            "Q: Mike made 69 dollars mowing lawns over the summer. If he spent 24 dollars buying new mower blades, how many 5 dollar games could he buy with the money he had left?\n",
            "A: Mike made $69 from mowing lawns. He spent $24 on new mower blades. \n",
            "That means he has $45 left. Each game costs $5, so he could buy 9 games. So the answer is 9.\n",
            "Q: A waiter had 14 customers to wait on. If 3 customers left and he got another 39 customers, how many customers would he have?\n",
            "A:  The waiter started with 14 customers.  3 customers left so that means there were 14-3=11 customers left. Then 39 more customers arrived so the total number of customers is 11+39 =50. So the answer is 50.\n",
            "Q: A bookshelf has 8 shelves and each shelf can hold 6 books. If there are currently 24 books on the top shelf, how many more books can be placed on all of the other shelves combined?\n",
            "A: There are 8 shelves in total. Each shelf holds 6 books. So the total number of books that each shelf can hold is 8*6=48 books. The top shelf has  24 books, so there are 48-24 =24 more books that can be placed on all other shelves combined.\n",
            "Q: A store has a sale where everything in the store is either $5 or $10. If a customer spends exactly $35, how\n",
            "\n",
            "\n",
            "iteration 4\n",
            "\n",
            "Q: A trivia team had 7 members total, but during a game 2 members didn’t show up. \n",
            "If each member that did show up scored 4 points, how many points were scored total?\n",
            "A: There were 7 members on the team, but 2 members didn’t show up. That means that there were 5 members that did show up. \n",
            "Each member that showed up scored 4 points. So if 5 members each scored 4 points, then the total number of points scored would be 5*4=20. So the answer is 20.\n",
            "Q: Mike made 69 dollars mowing lawns over the summer. If he spent 24 dollars buying new mower blades, how many 5 dollar games could he buy with the money he had left?\n",
            "A: Mike made $69 from mowing lawns. He spent $24 on new mower blades. \n",
            "That means he has $45 left. Each game costs $5, so he could buy 9 games. So the answer is 9.\n",
            "Q: A waiter had 14 customers to wait on. If 3 customers left and he got another 39 customers, how many customers would he have?\n",
            "A:  The waiter started with 14 customers. 3 of them left, so now there are  14-3=11 customers left. Then 39 more customers came in, so the total number of customers is 11+39 =50. So the answer is 50.\n",
            "Q: A pizza parlor had to make 28 large and 76 small pizzas for a party last weekend. If it takes an average of 4 minutes per large pizza, how many total minutes did they spend making all the pizzas?\n",
            "A: The pizza parlor made 28 large pizzas at 4 minutes each =112 minutes (28 x 4). Plus they made  76 small pizzas at 2 minutes each=152 minutes(76 x 2). So the total number of minutes spent making all the pizzas is 112+152=264. So the answer is 264.\n",
            "Q: A car can drive  3\n",
            "\n",
            "\n",
            "iteration 5\n",
            "\n",
            "Q: A trivia team had 7 members total, but during a game 2 members didn’t show up. \n",
            "If each member that did show up scored 4 points, how many points were scored total?\n",
            "A: There were 7 members on the team, but 2 members didn’t show up. That means that there were 5 members that did show up. \n",
            "Each member that showed up scored 4 points. So if 5 members each scored 4 points, then the total number of points scored would be 5*4=20. So the answer is 20.\n",
            "Q: Mike made 69 dollars mowing lawns over the summer. If he spent 24 dollars buying new mower blades, how many 5 dollar games could he buy with the money he had left?\n",
            "A: Mike made $69 from mowing lawns. He spent $24 on new mower blades. \n",
            "That means he has $45 left. Each game costs $5, so he could buy 9 games. So the answer is 9.\n",
            "Q: A waiter had 14 customers to wait on. If 3 customers left and he got another 39 customers, how many customers would he have?\n",
            "A:  The waiter started with 14 customers. Then 3 customers left. That means he has 14-3=11 customers now.\n",
            "Then, he received another 39 customers. So he has a total of 11 + 39 =50 customers. So the answer is 50.\n",
            "\n",
            "\n"
          ]
        }
      ]
    },
    {
      "cell_type": "code",
      "source": [
        "data = {'Std_Zero_Shot':0, 'Zero_Shot_CoT':80, 'Std_Few_Shot':0, 'Few_Shot_CoT':100}\n",
        "Prompting_Method = list(data.keys())\n",
        "Accuracies = list(data.values())\n",
        "\n",
        "fig = plt.figure(figsize = (10, 5))\n",
        "\n",
        "# creating the bar plot\n",
        "plt.bar(Prompting_Method, Accuracies,\n",
        "        width = 0.4)\n",
        "\n",
        "plt.xlabel(\"Prompting_Method\")\n",
        "plt.ylabel(\"% Accuracies\")\n",
        "plt.title(\"Accuracies of Different Prompting Methods: Test Case 1\")\n",
        "plt.show()"
      ],
      "metadata": {
        "colab": {
          "base_uri": "https://localhost:8080/",
          "height": 487
        },
        "id": "SPyGNCzn6vrF",
        "outputId": "2aa61e47-f00d-48b4-b451-0ea81a201b08"
      },
      "execution_count": null,
      "outputs": [
        {
          "output_type": "display_data",
          "data": {
            "text/plain": [
              "<Figure size 1000x500 with 1 Axes>"
            ],
            "image/png": "[encoded data removed]"
          },
          "metadata": {}
        }
      ]
    },
    {
      "cell_type": "markdown",
      "source": [
        "# Test Case 2: Date Understanding Problem"
      ],
      "metadata": {
        "id": "r5kjlZVny_lr"
      }
    },
    {
      "cell_type": "code",
      "source": [
        "# Prompt Template\n",
        "question = \"The concert was scheduled to be on 06/01/1943, but was delayed by one day to today. What is the date 10 days ago in MM/DD/YYYY?\"\n",
        "\n",
        "few_shot_CoT_examples = '''Q: Jane was born on the last day of Feburary in 2001. Today is her 16-year-old birthday.\n",
        "What is the date yesterday in MM/DD/YYYY?\n",
        "A: The last day of February is the 28th, so Jane was born on 02/28/2001. Today is her 16-year old birthday, so today is 02/28/2017.\n",
        "So yesterday was 02/27/2017. So the answer is 02/27/2017.\n",
        "Q: It is 4/19/1969 today. What is the date 24 hours later in MM/DD/YYYY?\n",
        "A: Today is 04/19/1969. 24 hours later is one day after today, which would be 04/20/1969.\n",
        "So the answer is 04/20/1969.'''\n",
        "\n",
        "standard_few_shot_examples = '''Q: Jane was born on the last day of Feburary in 2001. Today is her 16-year-old birthday.\n",
        "What is the date yesterday in MM/DD/YYYY?\n",
        "A: The answer is 02/27/2017.\n",
        "Q: It is 4/19/1969 today. What is the date 24 hours later in MM/DD/YYYY?\n",
        "A: The answer is 04/20/1969.'''\n",
        "\n",
        "prompt_template_standard_zero_shot = f'''\n",
        "Q: {question}\n",
        "A: The answer is '''\n",
        "\n",
        "prompt_template_zero_shot_CoT = f'''\n",
        "Q: {question}\n",
        "A: Let's think step by step. '''\n",
        "\n",
        "prompt_template_standard_few_shot = f'''\n",
        "{standard_few_shot_examples}\n",
        "Q: {question}\n",
        "A: The answer is '''\n",
        "\n",
        "prompt_template_few_shot_CoT = f'''\n",
        "{few_shot_CoT_examples}\n",
        "Q: {question}\n",
        "A: '''"
      ],
      "metadata": {
        "id": "WRDbPZCIzK_G"
      },
      "execution_count": null,
      "outputs": []
    },
    {
      "cell_type": "markdown",
      "source": [
        "(1) Standard Zero-shot"
      ],
      "metadata": {
        "id": "rKS413HMzpl6"
      }
    },
    {
      "cell_type": "code",
      "source": [
        "answers=[]\n",
        "for _ in range(5):\n",
        "  response = lcpp_llm(prompt=prompt_template_standard_zero_shot, max_tokens=512, temperature=0.5, top_p=0.95,\n",
        "                    repeat_penalty=1.2, top_k=150,\n",
        "                    echo=True)\n",
        "  answers.append((response[\"choices\"][0][\"text\"]))"
      ],
      "metadata": {
        "colab": {
          "base_uri": "https://localhost:8080/"
        },
        "id": "qEs1MyJRzuxZ",
        "outputId": "dcd0d321-5245-452d-835b-3f522ada1649"
      },
      "execution_count": null,
      "outputs": [
        {
          "output_type": "stream",
          "name": "stderr",
          "text": [
            "Llama.generate: prefix-match hit\n",
            "Llama.generate: prefix-match hit\n",
            "Llama.generate: prefix-match hit\n",
            "Llama.generate: prefix-match hit\n",
            "Llama.generate: prefix-match hit\n"
          ]
        }
      ]
    },
    {
      "cell_type": "code",
      "source": [
        "for i in range(len(answers)):\n",
        "  print(\"iteration\",i+1)\n",
        "  print (answers[i])\n",
        "  print(\"\\n\")"
      ],
      "metadata": {
        "colab": {
          "base_uri": "https://localhost:8080/"
        },
        "id": "9-DCcHwBzyIH",
        "outputId": "06c223c8-2b13-4453-bf3d-acca851771d0"
      },
      "execution_count": null,
      "outputs": [
        {
          "output_type": "stream",
          "name": "stdout",
          "text": [
            "iteration 1\n",
            "\n",
            "Q: The concert was scheduled to be on 06/01/1943, but was delayed by one day to today. What is the date 10 days ago in MM/DD/YYYY?\n",
            "A: The answer is 05/22/1943.\n",
            "\n",
            "\n",
            "iteration 2\n",
            "\n",
            "Q: The concert was scheduled to be on 06/01/1943, but was delayed by one day to today. What is the date 10 days ago in MM/DD/YYYY?\n",
            "A: The answer is 05/22/1943.\n",
            "\n",
            "\n",
            "iteration 3\n",
            "\n",
            "Q: The concert was scheduled to be on 06/01/1943, but was delayed by one day to today. What is the date 10 days ago in MM/DD/YYYY?\n",
            "A: The answer is 05/22/1943.\n",
            "\n",
            "\n",
            "iteration 4\n",
            "\n",
            "Q: The concert was scheduled to be on 06/01/1943, but was delayed by one day to today. What is the date 10 days ago in MM/DD/YYYY?\n",
            "A: The answer is 05/22/1943 (May 22nd, 1943).\n",
            "\n",
            "\n",
            "iteration 5\n",
            "\n",
            "Q: The concert was scheduled to be on 06/01/1943, but was delayed by one day to today. What is the date 10 days ago in MM/DD/YYYY?\n",
            "A: The answer is 05/22/1943 (May 22, 1943).\n",
            "\n",
            "\n"
          ]
        }
      ]
    },
    {
      "cell_type": "markdown",
      "source": [
        "(2) Zero-shot CoT"
      ],
      "metadata": {
        "id": "ufTbKcNXz8Ve"
      }
    },
    {
      "cell_type": "code",
      "source": [
        "answers=[]\n",
        "for _ in range(5):\n",
        "  response = lcpp_llm(prompt=prompt_template_zero_shot_CoT, max_tokens=512, temperature=0.5, top_p=0.95,\n",
        "                  repeat_penalty=1.2, top_k=150,\n",
        "                  echo=True)\n",
        "  answers.append((response[\"choices\"][0][\"text\"]))"
      ],
      "metadata": {
        "colab": {
          "base_uri": "https://localhost:8080/"
        },
        "id": "jfJ-dkMs0F2l",
        "outputId": "8a130a52-ae57-4cf0-c93c-62594bbbfad7"
      },
      "execution_count": null,
      "outputs": [
        {
          "output_type": "stream",
          "name": "stderr",
          "text": [
            "Llama.generate: prefix-match hit\n",
            "Llama.generate: prefix-match hit\n",
            "Llama.generate: prefix-match hit\n",
            "Llama.generate: prefix-match hit\n",
            "Llama.generate: prefix-match hit\n"
          ]
        }
      ]
    },
    {
      "cell_type": "code",
      "source": [
        "for i in range(len(answers)):\n",
        "  print(\"iteration\",i+1)\n",
        "  print (answers[i])\n",
        "  print(\"\\n\")"
      ],
      "metadata": {
        "colab": {
          "base_uri": "https://localhost:8080/"
        },
        "id": "TH-aw9ZS0Kl2",
        "outputId": "06369d2a-0e04-401a-b277-b3a92ac55244"
      },
      "execution_count": null,
      "outputs": [
        {
          "output_type": "stream",
          "name": "stdout",
          "text": [
            "iteration 1\n",
            "\n",
            "Q: The concert was scheduled to be on 06/01/1943, but was delayed by one day to today. What is the date 10 days ago in MM/DD/YYYY?\n",
            "A: Let's think step by step. \n",
            "Today is 06/02/1943.\n",
            "10 days before today would be 05/23/1943 (not 05/22/1943).\n",
            "\n",
            "\n",
            "iteration 2\n",
            "\n",
            "Q: The concert was scheduled to be on 06/01/1943, but was delayed by one day to today. What is the date 10 days ago in MM/DD/YYYY?\n",
            "A: Let's think step by step. \n",
            "Today is 06/02/1943, so ten days ago would be...  \n",
            "MM = 05 (May), DD = 22 (22nd of May), YYYY = 1943.\n",
            "So the date ten days before today in MM/DD/YYYY format is: 05/22/1943\n",
            "\n",
            "\n",
            "iteration 3\n",
            "\n",
            "Q: The concert was scheduled to be on 06/01/1943, but was delayed by one day to today. What is the date 10 days ago in MM/DD/YYYY?\n",
            "A: Let's think step by step. \n",
            "Today's date is 06/02/1943, so 10 days ago would be...\n",
            "MM = 05 (May)\n",
            "DD = 22 (22nd of May)\n",
            "YYYY = 1943\n",
            "Therefore, the date 10 days ago in MM/DD/YYYY format is 05/22/1943.\n",
            "\n",
            "\n",
            "iteration 4\n",
            "\n",
            "Q: The concert was scheduled to be on 06/01/1943, but was delayed by one day to today. What is the date 10 days ago in MM/DD/YYYY?\n",
            "A: Let's think step by step. \n",
            "Today's date is 06/02/1943, and we want to find out what the date was 10 days ago.\n",
            "To do this, we simply subtract 10 days from today's date.  \n",
            "So, 10 days ago, the date would have been:\n",
            "05/23/1943 (MM/DD/YYYY)\n",
            "\n",
            "\n",
            "iteration 5\n",
            "\n",
            "Q: The concert was scheduled to be on 06/01/1943, but was delayed by one day to today. What is the date 10 days ago in MM/DD/YYYY?\n",
            "A: Let's think step by step. \n",
            "If it is currently 06/02/1943 (the concert was delayed by one day), then \n",
            "10 days ago would be 05/22/1943 in MM/DD/YYYY format.\n",
            "\n",
            "\n"
          ]
        }
      ]
    },
    {
      "cell_type": "markdown",
      "source": [
        "(3) Standard Few-shot\n"
      ],
      "metadata": {
        "id": "iaoVVK4J0TVd"
      }
    },
    {
      "cell_type": "code",
      "source": [
        "answers=[]\n",
        "for _ in range(5):\n",
        "  response = lcpp_llm(prompt=prompt_template_standard_few_shot, max_tokens=512, temperature=0.5, top_p=0.95,\n",
        "                  repeat_penalty=1.2, top_k=150,\n",
        "                  echo=True)\n",
        "  answers.append((response[\"choices\"][0][\"text\"]))"
      ],
      "metadata": {
        "colab": {
          "base_uri": "https://localhost:8080/"
        },
        "id": "sgr8UGh70cgr",
        "outputId": "4ea95056-edf8-40d0-c318-acdefa11e9af"
      },
      "execution_count": null,
      "outputs": [
        {
          "output_type": "stream",
          "name": "stderr",
          "text": [
            "Llama.generate: prefix-match hit\n",
            "Llama.generate: prefix-match hit\n",
            "Llama.generate: prefix-match hit\n",
            "Llama.generate: prefix-match hit\n",
            "Llama.generate: prefix-match hit\n"
          ]
        }
      ]
    },
    {
      "cell_type": "code",
      "source": [
        "for i in range(len(answers)):\n",
        "  print(\"iteration\",i+1)\n",
        "  print (answers[i])\n",
        "  print(\"\\n\")"
      ],
      "metadata": {
        "colab": {
          "base_uri": "https://localhost:8080/"
        },
        "id": "7NdF0dfd0iEk",
        "outputId": "cab9a47a-7fbf-4963-a9d0-10d0e55432de"
      },
      "execution_count": null,
      "outputs": [
        {
          "output_type": "stream",
          "name": "stdout",
          "text": [
            "iteration 1\n",
            "\n",
            "Q: Jane was born on the last day of Feburary in 2001. Today is her 16-year-old birthday.\n",
            "What is the date yesterday in MM/DD/YYYY?\n",
            "A: The answer is 02/27/2017.\n",
            "Q: It is 4/19/1969 today. What is the date 24 hours later in MM/DD/YYYY?\n",
            "A: The answer is 04/20/1969.\n",
            "Q: The concert was scheduled to be on 06/01/1943, but was delayed by one day to today. What is the date 10 days ago in MM/DD/YYYY?\n",
            "A: The answer is 05/21/1943.\n",
            "\n",
            "\n",
            "iteration 2\n",
            "\n",
            "Q: Jane was born on the last day of Feburary in 2001. Today is her 16-year-old birthday.\n",
            "What is the date yesterday in MM/DD/YYYY?\n",
            "A: The answer is 02/27/2017.\n",
            "Q: It is 4/19/1969 today. What is the date 24 hours later in MM/DD/YYYY?\n",
            "A: The answer is 04/20/1969.\n",
            "Q: The concert was scheduled to be on 06/01/1943, but was delayed by one day to today. What is the date 10 days ago in MM/DD/YYYY?\n",
            "A: The answer is 05/22/1943.\n",
            "\n",
            "\n",
            "iteration 3\n",
            "\n",
            "Q: Jane was born on the last day of Feburary in 2001. Today is her 16-year-old birthday.\n",
            "What is the date yesterday in MM/DD/YYYY?\n",
            "A: The answer is 02/27/2017.\n",
            "Q: It is 4/19/1969 today. What is the date 24 hours later in MM/DD/YYYY?\n",
            "A: The answer is 04/20/1969.\n",
            "Q: The concert was scheduled to be on 06/01/1943, but was delayed by one day to today. What is the date 10 days ago in MM/DD/YYYY?\n",
            "A: The answer is 05/21/1943.\n",
            "\n",
            "\n",
            "iteration 4\n",
            "\n",
            "Q: Jane was born on the last day of Feburary in 2001. Today is her 16-year-old birthday.\n",
            "What is the date yesterday in MM/DD/YYYY?\n",
            "A: The answer is 02/27/2017.\n",
            "Q: It is 4/19/1969 today. What is the date 24 hours later in MM/DD/YYYY?\n",
            "A: The answer is 04/20/1969.\n",
            "Q: The concert was scheduled to be on 06/01/1943, but was delayed by one day to today. What is the date 10 days ago in MM/DD/YYYY?\n",
            "A: The answer is 05/22/1943.\n",
            "\n",
            "\n",
            "iteration 5\n",
            "\n",
            "Q: Jane was born on the last day of Feburary in 2001. Today is her 16-year-old birthday.\n",
            "What is the date yesterday in MM/DD/YYYY?\n",
            "A: The answer is 02/27/2017.\n",
            "Q: It is 4/19/1969 today. What is the date 24 hours later in MM/DD/YYYY?\n",
            "A: The answer is 04/20/1969.\n",
            "Q: The concert was scheduled to be on 06/01/1943, but was delayed by one day to today. What is the date 10 days ago in MM/DD/YYYY?\n",
            "A: The answer is 05/21/1943.\n",
            "\n",
            "\n"
          ]
        }
      ]
    },
    {
      "cell_type": "markdown",
      "source": [
        "(4) Few-shot CoT"
      ],
      "metadata": {
        "id": "6LG5B14v0rZz"
      }
    },
    {
      "cell_type": "code",
      "source": [
        "answers=[]\n",
        "for _ in range(5):\n",
        "  response = lcpp_llm(prompt=prompt_template_few_shot_CoT, max_tokens=512, temperature=0.5, top_p=0.95,\n",
        "                  repeat_penalty=1.2, top_k=150,\n",
        "                  echo=True)\n",
        "  answers.append((response[\"choices\"][0][\"text\"]))"
      ],
      "metadata": {
        "colab": {
          "base_uri": "https://localhost:8080/"
        },
        "id": "72oB05e00x_W",
        "outputId": "4372af8e-0add-4868-bd9f-18c823eae923"
      },
      "execution_count": null,
      "outputs": [
        {
          "output_type": "stream",
          "name": "stderr",
          "text": [
            "Llama.generate: prefix-match hit\n",
            "Llama.generate: prefix-match hit\n",
            "Llama.generate: prefix-match hit\n",
            "Llama.generate: prefix-match hit\n",
            "Llama.generate: prefix-match hit\n"
          ]
        }
      ]
    },
    {
      "cell_type": "code",
      "source": [
        "for i in range(len(answers)):\n",
        "  print(\"iteration\",i+1)\n",
        "  print (answers[i])\n",
        "  print(\"\\n\")"
      ],
      "metadata": {
        "colab": {
          "base_uri": "https://localhost:8080/"
        },
        "id": "-mEOyJ5d03h1",
        "outputId": "494cf7e7-6586-472b-a7cf-62783e5457ca"
      },
      "execution_count": null,
      "outputs": [
        {
          "output_type": "stream",
          "name": "stdout",
          "text": [
            "iteration 1\n",
            "\n",
            "Q: Jane was born on the last day of Feburary in 2001. Today is her 16-year-old birthday.\n",
            "What is the date yesterday in MM/DD/YYYY?\n",
            "A: The last day of February is the 28th, so Jane was born on 02/28/2001. Today is her 16-year old birthday, so today is 02/28/2017. \n",
            "So yesterday was 02/27/2017. So the answer is 02/27/2017.\n",
            "Q: It is 4/19/1969 today. What is the date 24 hours later in MM/DD/YYYY?\n",
            "A: Today is 04/19/1969. 24 hours later is one day after today, which would be 04/20/1969.\n",
            "So the answer is 04/20/1969.\n",
            "Q: The concert was scheduled to be on 06/01/1943, but was delayed by one day to today. What is the date 10 days ago in MM/DD/YYYY?\n",
            "A: 10 days before today would have been 05/22/1943.\n",
            "So the answer is 05/22/1943\n",
            "\n",
            "\n",
            "iteration 2\n",
            "\n",
            "Q: Jane was born on the last day of Feburary in 2001. Today is her 16-year-old birthday.\n",
            "What is the date yesterday in MM/DD/YYYY?\n",
            "A: The last day of February is the 28th, so Jane was born on 02/28/2001. Today is her 16-year old birthday, so today is 02/28/2017. \n",
            "So yesterday was 02/27/2017. So the answer is 02/27/2017.\n",
            "Q: It is 4/19/1969 today. What is the date 24 hours later in MM/DD/YYYY?\n",
            "A: Today is 04/19/1969. 24 hours later is one day after today, which would be 04/20/1969.\n",
            "So the answer is 04/20/1969.\n",
            "Q: The concert was scheduled to be on 06/01/1943, but was delayed by one day to today. What is the date 10 days ago in MM/DD/YYYY?\n",
            "A: 10 days before today would have been 05/28/1943. So the answer is  05/28/1943.\n",
            "\n",
            "\n",
            "iteration 3\n",
            "\n",
            "Q: Jane was born on the last day of Feburary in 2001. Today is her 16-year-old birthday.\n",
            "What is the date yesterday in MM/DD/YYYY?\n",
            "A: The last day of February is the 28th, so Jane was born on 02/28/2001. Today is her 16-year old birthday, so today is 02/28/2017. \n",
            "So yesterday was 02/27/2017. So the answer is 02/27/2017.\n",
            "Q: It is 4/19/1969 today. What is the date 24 hours later in MM/DD/YYYY?\n",
            "A: Today is 04/19/1969. 24 hours later is one day after today, which would be 04/20/1969.\n",
            "So the answer is 04/20/1969.\n",
            "Q: The concert was scheduled to be on 06/01/1943, but was delayed by one day to today. What is the date 10 days ago in MM/DD/YYYY?\n",
            "A: 10 days before today would have been 05/22/1943. The concert was originally scheduled for 06/01/1943, so it was delayed by one day to today's date of 06/02/1943.\n",
            "So the answer is 05/22/1943.\n",
            "\n",
            "\n",
            "iteration 4\n",
            "\n",
            "Q: Jane was born on the last day of Feburary in 2001. Today is her 16-year-old birthday.\n",
            "What is the date yesterday in MM/DD/YYYY?\n",
            "A: The last day of February is the 28th, so Jane was born on 02/28/2001. Today is her 16-year old birthday, so today is 02/28/2017. \n",
            "So yesterday was 02/27/2017. So the answer is 02/27/2017.\n",
            "Q: It is 4/19/1969 today. What is the date 24 hours later in MM/DD/YYYY?\n",
            "A: Today is 04/19/1969. 24 hours later is one day after today, which would be 04/20/1969.\n",
            "So the answer is 04/20/1969.\n",
            "Q: The concert was scheduled to be on 06/01/1943, but was delayed by one day to today. What is the date 10 days ago in MM/DD/YYYY?\n",
            "A: 10 days before today would have been 05/22/1943.\n",
            "\n",
            "\n",
            "iteration 5\n",
            "\n",
            "Q: Jane was born on the last day of Feburary in 2001. Today is her 16-year-old birthday.\n",
            "What is the date yesterday in MM/DD/YYYY?\n",
            "A: The last day of February is the 28th, so Jane was born on 02/28/2001. Today is her 16-year old birthday, so today is 02/28/2017. \n",
            "So yesterday was 02/27/2017. So the answer is 02/27/2017.\n",
            "Q: It is 4/19/1969 today. What is the date 24 hours later in MM/DD/YYYY?\n",
            "A: Today is 04/19/1969. 24 hours later is one day after today, which would be 04/20/1969.\n",
            "So the answer is 04/20/1969.\n",
            "Q: The concert was scheduled to be on 06/01/1943, but was delayed by one day to today. What is the date 10 days ago in MM/DD/YYYY?\n",
            "A: 10 days before today would have been 05/22/1943.\n",
            "So the answer is 05/22/1943.\n",
            "\n",
            "\n"
          ]
        }
      ]
    },
    {
      "cell_type": "code",
      "source": [
        "data = {'Std_Zero_Shot':0, 'Zero_Shot_CoT':40, 'Std_Few_Shot':0, 'Few_Shot_CoT':0}\n",
        "Prompting_Method = list(data.keys())\n",
        "Accuracies = list(data.values())\n",
        "\n",
        "fig = plt.figure(figsize = (10, 5))\n",
        "\n",
        "# creating the bar plot\n",
        "plt.bar(Prompting_Method, Accuracies,\n",
        "        width = 0.4)\n",
        "\n",
        "plt.xlabel(\"Prompting_Method\")\n",
        "plt.ylabel(\"% Accuracies\")\n",
        "plt.title(\"Accuracies of Different Prompting Methods: Test Case 2\")\n",
        "plt.show()"
      ],
      "metadata": {
        "colab": {
          "base_uri": "https://localhost:8080/",
          "height": 487
        },
        "id": "dynzRYZI75X9",
        "outputId": "270778fb-6734-470d-a251-4a8110bd72fc"
      },
      "execution_count": null,
      "outputs": [
        {
          "output_type": "display_data",
          "data": {
            "text/plain": [
              "<Figure size 1000x500 with 1 Axes>"
            ],
            "image/png": "[encoded data removed]"
          },
          "metadata": {}
        }
      ]
    },
    {
      "cell_type": "markdown",
      "source": [
        "# Test Case 3: Coinflip Problem"
      ],
      "metadata": {
        "id": "rwsaIg0W11_f"
      }
    },
    {
      "cell_type": "code",
      "source": [
        "# Prompt Template\n",
        "question = \"A coin is heads up. Ka flips the coin. Sherrie flips the coin. Is the coin still heads up?\"\n",
        "\n",
        "few_shot_CoT_examples = '''Q: A coin is heads up. Jamey flips the coin. Teressa flips the coin. Is the coin still heads up?\n",
        "A: The coin was flipped by Jamey and Teressa. So the coin was flipped 2 times, which is an even number.\n",
        "The coin started heads up, so after an even number of flips, it will still be heads up. So the answer is yes.\n",
        "Q: A coin is heads up. Maybelle flips the coin. Shalonda does not flip the coin. Is the coin still heads up?\n",
        "A: The coin was flipped by Maybelle. So the coin was flipped 1 time, which is an oddnumber.\n",
        "The coin started heads up, so after an odd number of flips, it will be tails up. So the answer is no.'''\n",
        "\n",
        "standard_few_shot_examples = '''Q: A coin is heads up. Jamey flips the coin. Teressa flips the coin. Is the coin still heads\n",
        "up?\n",
        "A: The answer is yes.\n",
        "Q: A coin is heads up. Maybelle flips the coin. Shalonda does not flip the coin. Is the coin\n",
        "still heads up?\n",
        "A: The answer is no.'''\n",
        "\n",
        "prompt_template_standard_zero_shot = f'''\n",
        "Q: {question}\n",
        "A: The answer is '''\n",
        "\n",
        "prompt_template_zero_shot_CoT = f'''\n",
        "Q: {question}\n",
        "A: Let's think step by step. '''\n",
        "\n",
        "prompt_template_standard_few_shot = f'''\n",
        "{standard_few_shot_examples}\n",
        "Q: {question}\n",
        "A: The answer is '''\n",
        "\n",
        "prompt_template_few_shot_CoT = f'''\n",
        "{few_shot_CoT_examples}\n",
        "Q: {question}\n",
        "A: '''"
      ],
      "metadata": {
        "id": "LwSeSED420Hu"
      },
      "execution_count": null,
      "outputs": []
    },
    {
      "cell_type": "markdown",
      "source": [
        "(1) Standard Zero-shot"
      ],
      "metadata": {
        "id": "P5oUosjZ2WMz"
      }
    },
    {
      "cell_type": "code",
      "source": [
        "answers=[]\n",
        "for _ in range(5):\n",
        "  response = lcpp_llm(prompt=prompt_template_standard_zero_shot, max_tokens=512, temperature=0.5, top_p=0.95,\n",
        "                    repeat_penalty=1.2, top_k=150,\n",
        "                    echo=True)\n",
        "  answers.append((response[\"choices\"][0][\"text\"]))"
      ],
      "metadata": {
        "colab": {
          "base_uri": "https://localhost:8080/"
        },
        "id": "nfbDo-1q2B34",
        "outputId": "486b6f9f-f8fe-4101-b176-f4dc4f706ae7"
      },
      "execution_count": null,
      "outputs": [
        {
          "output_type": "stream",
          "name": "stderr",
          "text": [
            "Llama.generate: prefix-match hit\n",
            "Llama.generate: prefix-match hit\n",
            "Llama.generate: prefix-match hit\n",
            "Llama.generate: prefix-match hit\n",
            "Llama.generate: prefix-match hit\n"
          ]
        }
      ]
    },
    {
      "cell_type": "code",
      "source": [
        "for i in range(len(answers)):\n",
        "  print(\"iteration\",i+1)\n",
        "  print (answers[i])\n",
        "  print(\"\\n\")"
      ],
      "metadata": {
        "colab": {
          "base_uri": "https://localhost:8080/"
        },
        "id": "X637BDNj188G",
        "outputId": "28dae9b7-f715-4e0d-bb4e-106d12d0dfdb"
      },
      "execution_count": null,
      "outputs": [
        {
          "output_type": "stream",
          "name": "stdout",
          "text": [
            "iteration 1\n",
            "\n",
            "Q: A coin is heads up. Ka flips the coin. Sherrie flips the coin. Is the coin still heads up?\n",
            "A: The answer is 50% chance that it's still heads up and 50% chance that it's tails up.\n",
            "\n",
            "Q: If a coin lands on its edge, what are the chances that it will land on its head or tail when flipped again?\n",
            "A: The answer is 0%, because there is no \"head\" or \"tail\" side of the coin to land on if it's on its edge.\n",
            "\n",
            "Q: If a coin lands on its edge, what are the chances that it will stay on its edge when flipped again?\n",
            "A: The answer is 0%, because coins do not remain on their edges after being flipped. They either land heads up or tails up.\n",
            "\n",
            "\n",
            "iteration 2\n",
            "\n",
            "Q: A coin is heads up. Ka flips the coin. Sherrie flips the coin. Is the coin still heads up?\n",
            "A: The answer is 50% chance that it's still heads up, regardless of who flipped it last. \n",
            "\n",
            "\n",
            "iteration 3\n",
            "\n",
            "Q: A coin is heads up. Ka flips the coin. Sherrie flips the coin. Is the coin still heads up?\n",
            "A: The answer is 50/50 chance that it's heads or tails.  \n",
            "\n",
            "\n",
            "iteration 4\n",
            "\n",
            "Q: A coin is heads up. Ka flips the coin. Sherrie flips the coin. Is the coin still heads up?\n",
            "A: The answer is 50/50, since each flip has an equal probability of landing on either side. So after one flip (by Ka), the coin could be heads or tails; and after a second flip (by Sherrie), it's just as likely to land on either side again.\n",
            "\n",
            "This question is often used as an example in discussions about conditional probability, since it illustrates how each subsequent event affects the prior probabilities of all possible outcomes. In this case, we have two independent events: flipping the coin once (which gives us a 50% chance of heads or tails) and then flipping it again (which also has a 50% chance of either side). The probability of the coin being heads up after both flips is still just 50%, since each flip has an independent effect on the prior outcome.\n",
            "\n",
            "\n",
            "iteration 5\n",
            "\n",
            "Q: A coin is heads up. Ka flips the coin. Sherrie flips the coin. Is the coin still heads up?\n",
            "A: The answer is 50/50, because each time a person flips the coin, it has an equal chance of landing on either side (heads or tails). So if Ka and Sherrie both flip the coin, there's no way to know for sure what side it will land on.\n",
            "\n",
            "Q: A coin is heads up. Ka flips the coin twice in a row. Is the coin still heads up?\n",
            "A: The answer is 50/50, because each flip of the coin has an equal chance of landing on either side (heads or tails). So even if Ka flips the coin twice, there's no way to know for sure what side it will land on after the second flip.\n",
            "\n",
            "Q: A coin is heads up. Ka flips the coin three times in a row. Is the coin still heads up?\n",
            "A: The answer is 75% chance that the coin will be heads up, because each flip of the coin has an equal chance of landing on either side (heads or tails). So after three flips, there's a greater likelihood that the coin will land on heads. However, it's still not certain and there's always a 25% chance that the coin could land on tails instead.\n",
            "\n",
            "Q: A coin is heads up. Ka flips the coin four times in a row. Is the coin still heads up?\n",
            "A: The answer is 87.5% chance that the coin will be heads up, because each flip of the coin has an equal chance of landing on either side (heads or tails). So after four flips, there's a greater likelihood that the coin will land on heads. However, it's still not certain and there's always a 12.5% chance that the coin could land on tails instead.\n",
            "\n",
            "Q: A coin is heads up. Ka flips the coin five times in a row. Is the coin still heads up?\n",
            "A: The answer is 93.75% chance that the coin will be heads up, because each flip of the coin has an equal chance of landing on either\n",
            "\n",
            "\n"
          ]
        }
      ]
    },
    {
      "cell_type": "markdown",
      "source": [
        "(2) Zero-shot CoT"
      ],
      "metadata": {
        "id": "DSWkUTkF2XCB"
      }
    },
    {
      "cell_type": "code",
      "source": [
        "answers=[]\n",
        "for _ in range(5):\n",
        "  response = lcpp_llm(prompt=prompt_template_zero_shot_CoT, max_tokens=512, temperature=0.5, top_p=0.95,\n",
        "                  repeat_penalty=1.2, top_k=150,\n",
        "                  echo=True)\n",
        "  answers.append((response[\"choices\"][0][\"text\"]))"
      ],
      "metadata": {
        "colab": {
          "base_uri": "https://localhost:8080/"
        },
        "id": "73gl8EW82FhR",
        "outputId": "9b7a62ae-22d3-4fac-e12f-511ce6e5dc1d"
      },
      "execution_count": null,
      "outputs": [
        {
          "output_type": "stream",
          "name": "stderr",
          "text": [
            "Llama.generate: prefix-match hit\n",
            "Llama.generate: prefix-match hit\n",
            "Llama.generate: prefix-match hit\n",
            "Llama.generate: prefix-match hit\n",
            "Llama.generate: prefix-match hit\n"
          ]
        }
      ]
    },
    {
      "cell_type": "code",
      "source": [
        "for i in range(len(answers)):\n",
        "  print(\"iteration\",i+1)\n",
        "  print (answers[i])\n",
        "  print(\"\\n\")"
      ],
      "metadata": {
        "colab": {
          "base_uri": "https://localhost:8080/"
        },
        "id": "NkWgb2e01-7l",
        "outputId": "496581b2-10d1-4803-cbfb-b47b2f9333aa"
      },
      "execution_count": null,
      "outputs": [
        {
          "output_type": "stream",
          "name": "stdout",
          "text": [
            "iteration 1\n",
            "\n",
            "Q: A coin is heads up. Ka flips the coin. Sherrie flips the coin. Is the coin still heads up?\n",
            "A: Let's think step by step. 1) The coin starts as heads up.  2)Ka flips the coin, so it could be either heads or tails now.  3)Sherrie flips the coin again and gets a result (heads or tails). 4)The final result of the two flips is what matters here: if both Ka and Sherrie got the same result (either both heads or both tails), then the coin stays the same, i.e., it's still heads up. If they got different results, then the coin changes to the opposite side (tails in this case). So, after two flips, the final state of the coin is: \n",
            "heads-heads: keeps being heads up  \n",
            "heads-tails or tails-heads: becomes tails up\n",
            "\n",
            "\n",
            "iteration 2\n",
            "\n",
            "Q: A coin is heads up. Ka flips the coin. Sherrie flips the coin. Is the coin still heads up?\n",
            "A: Let's think step by step.  If the first person, Ka, gets a head, then it stays heads up. But if she gets tails, then it becomes tails up! So we don't know what the result is until Sherrie flips her coin and tells us whether or not it matches Ka's result.\n",
            "\n",
            "Q: If you have two coins and one of them is fair (50/50 chance), can you use these two coins to predict which side will come up if you flip the other coin? \n",
            "A: Not necessarily! Even though we know that one of the coins is fair, there's no way to determine which one it is based on just two flips. So we still don't have enough information to make a prediction about the third coin.\n",
            "\n",
            "\n",
            "iteration 3\n",
            "\n",
            "Q: A coin is heads up. Ka flips the coin. Sherrie flips the coin. Is the coin still heads up?\n",
            "A: Let's think step by step. \n",
            "1) The first person, Ka, flipped the coin and it was heads up.  \n",
            "2) Now, Sherrie flips the coin again. \n",
            "3) Since the coin is fair, there are two possibilities: heads or tails. \n",
            "4) If the coin lands on heads again, then it's still heads up. \n",
            "5) So yes, the coin is still heads up after both Ka and Sherrie flipped it.  \n",
            "Now you try! Flip a virtual coin and see if it lands on heads or tails.\n",
            "\n",
            "\n",
            "iteration 4\n",
            "\n",
            "Q: A coin is heads up. Ka flips the coin. Sherrie flips the coin. Is the coin still heads up?\n",
            "A: Let's think step by step. \n",
            "1) The first person (Ka) flipped the coin and it was heads up.  \n",
            "2) Now, Sherrie flips the coin again.   \n",
            "3) Since we don't know what happened when Sherrie flipped the coin, we cannot say for sure whether the outcome is still heads up or not. \n",
            "\n",
            "\n",
            "iteration 5\n",
            "\n",
            "Q: A coin is heads up. Ka flips the coin. Sherrie flips the coin. Is the coin still heads up?\n",
            "A: Let's think step by step. \n",
            "1) The first person to flip the coin, Ka, got a head.\n",
            "2) Now, Sherrie flipped the coin again. If she also gets a head, then the coin is still heads up.\n",
            "3) But if Sherrie gets tails, then the coin has changed and it's no longer heads up. \n",
            "So, we don't know whether the coin is still heads up or not after Sherrie flipped it.\n",
            "\n",
            "\n"
          ]
        }
      ]
    },
    {
      "cell_type": "markdown",
      "source": [
        "(3) Standard Few-shot"
      ],
      "metadata": {
        "id": "OOSsHO2-2YLa"
      }
    },
    {
      "cell_type": "code",
      "source": [
        "answers=[]\n",
        "for _ in range(5):\n",
        "  response = lcpp_llm(prompt=prompt_template_standard_few_shot, max_tokens=512, temperature=0.5, top_p=0.95,\n",
        "                  repeat_penalty=1.2, top_k=150,\n",
        "                  echo=True)\n",
        "  answers.append((response[\"choices\"][0][\"text\"]))"
      ],
      "metadata": {
        "colab": {
          "base_uri": "https://localhost:8080/"
        },
        "id": "5HUOcL8S2Hrj",
        "outputId": "752588ed-722d-423a-c62a-f4499a3e20e5"
      },
      "execution_count": null,
      "outputs": [
        {
          "output_type": "stream",
          "name": "stderr",
          "text": [
            "Llama.generate: prefix-match hit\n",
            "Llama.generate: prefix-match hit\n",
            "Llama.generate: prefix-match hit\n",
            "Llama.generate: prefix-match hit\n",
            "Llama.generate: prefix-match hit\n"
          ]
        }
      ]
    },
    {
      "cell_type": "code",
      "source": [
        "for i in range(len(answers)):\n",
        "  print(\"iteration\",i+1)\n",
        "  print (answers[i])\n",
        "  print(\"\\n\")"
      ],
      "metadata": {
        "colab": {
          "base_uri": "https://localhost:8080/"
        },
        "id": "by18lIbj1_nm",
        "outputId": "df486667-e0b2-4225-9621-7abfe9718ab5"
      },
      "execution_count": null,
      "outputs": [
        {
          "output_type": "stream",
          "name": "stdout",
          "text": [
            "iteration 1\n",
            "\n",
            "Q: A coin is heads up. Jamey flips the coin. Teressa flips the coin. Is the coin still heads\n",
            "up?\n",
            "A: The answer is yes.\n",
            "Q: A coin is heads up. Maybelle flips the coin. Shalonda does not flip the coin. Is the coin\n",
            "still heads up?\n",
            "A: The answer is no.\n",
            "Q: A coin is heads up. Ka flips the coin. Sherrie flips the coin. Is the coin still heads up?\n",
            "A: The answer is  yes. \n",
            "\n",
            "\n",
            "iteration 2\n",
            "\n",
            "Q: A coin is heads up. Jamey flips the coin. Teressa flips the coin. Is the coin still heads\n",
            "up?\n",
            "A: The answer is yes.\n",
            "Q: A coin is heads up. Maybelle flips the coin. Shalonda does not flip the coin. Is the coin\n",
            "still heads up?\n",
            "A: The answer is no.\n",
            "Q: A coin is heads up. Ka flips the coin. Sherrie flips the coin. Is the coin still heads up?\n",
            "A: The answer is 50/50 chance.\n",
            "Q: A coin is heads up. Kaila flips the coin. Jamey flips the coin again. Is the coin still heads up?\n",
            "A: The answer is yes.\n",
            "\n",
            "\n",
            "iteration 3\n",
            "\n",
            "Q: A coin is heads up. Jamey flips the coin. Teressa flips the coin. Is the coin still heads\n",
            "up?\n",
            "A: The answer is yes.\n",
            "Q: A coin is heads up. Maybelle flips the coin. Shalonda does not flip the coin. Is the coin\n",
            "still heads up?\n",
            "A: The answer is no.\n",
            "Q: A coin is heads up. Ka flips the coin. Sherrie flips the coin. Is the coin still heads up?\n",
            "A: The answer is  yes.\n",
            "\n",
            "Can you explain why in each case, the answer is either \"yes\" or \"no\"?\n",
            "\n",
            "I'm having trouble understanding how the fact that multiple people are flipping the coin affects whether it's heads up or not. I would appreciate any clarification!\n",
            "\n",
            "Thank you so much for your help!\n",
            "\n",
            "\n",
            "iteration 4\n",
            "\n",
            "Q: A coin is heads up. Jamey flips the coin. Teressa flips the coin. Is the coin still heads\n",
            "up?\n",
            "A: The answer is yes.\n",
            "Q: A coin is heads up. Maybelle flips the coin. Shalonda does not flip the coin. Is the coin\n",
            "still heads up?\n",
            "A: The answer is no.\n",
            "Q: A coin is heads up. Ka flips the coin. Sherrie flips the coin. Is the coin still heads up?\n",
            "A: The answer is  yes.\n",
            "\n",
            "\n",
            "iteration 5\n",
            "\n",
            "Q: A coin is heads up. Jamey flips the coin. Teressa flips the coin. Is the coin still heads\n",
            "up?\n",
            "A: The answer is yes.\n",
            "Q: A coin is heads up. Maybelle flips the coin. Shalonda does not flip the coin. Is the coin\n",
            "still heads up?\n",
            "A: The answer is no.\n",
            "Q: A coin is heads up. Ka flips the coin. Sherrie flips the coin. Is the coin still heads up?\n",
            "A: The answer is  yes.\n",
            "\n",
            "This is a classic lateral thinking puzzle that requires you to think outside of the box and consider multiple perspectives. Here's how it works:\n",
            "\n",
            "The first question asks if the coin is still heads up after Jamey flips it. Logically, we would assume that flipping the coin would change its orientation, so the answer is no. However, Teressa does not actually flip the coin, so nothing changes and the coin remains heads up.\n",
            "\n",
            "The second question asks if the coin is still heads up after Maybelle flips it. Since Maybelle does not flip the coin, nothing happens, and the coin remains heads up.\n",
            "\n",
            "In the third question, Ka flips the coin, but Sherrie does not flip the coin. Again, nothing changes, and the coin remains heads up.\n",
            "\n",
            "The key to this puzzle is realizing that the actions of the people mentioned in each question do not actually affect the state of the coin. The only relevant information is that the coin starts out heads up. Therefore, regardless of who flips the coin or doesn't flip it, the answer will always be yes - the coin remains heads up.\n",
            "\n",
            "\n"
          ]
        }
      ]
    },
    {
      "cell_type": "markdown",
      "source": [
        "(4) Few-shot CoT"
      ],
      "metadata": {
        "id": "Qd-fBKeQ2ZHW"
      }
    },
    {
      "cell_type": "code",
      "source": [
        "answers=[]\n",
        "for _ in range(5):\n",
        "  response = lcpp_llm(prompt=prompt_template_few_shot_CoT, max_tokens=512, temperature=0.5, top_p=0.95,\n",
        "                  repeat_penalty=1.2, top_k=150,\n",
        "                  echo=True)\n",
        "  answers.append((response[\"choices\"][0][\"text\"]))"
      ],
      "metadata": {
        "colab": {
          "base_uri": "https://localhost:8080/"
        },
        "id": "1yEzKqtY2Igu",
        "outputId": "b7402afd-f463-4872-b88c-c607e0b6274f"
      },
      "execution_count": null,
      "outputs": [
        {
          "output_type": "stream",
          "name": "stderr",
          "text": [
            "Llama.generate: prefix-match hit\n",
            "Llama.generate: prefix-match hit\n",
            "Llama.generate: prefix-match hit\n",
            "Llama.generate: prefix-match hit\n",
            "Llama.generate: prefix-match hit\n"
          ]
        }
      ]
    },
    {
      "cell_type": "code",
      "source": [
        "for i in range(len(answers)):\n",
        "  print(\"iteration\",i+1)\n",
        "  print (answers[i])\n",
        "  print(\"\\n\")"
      ],
      "metadata": {
        "colab": {
          "base_uri": "https://localhost:8080/"
        },
        "id": "cpD0DpjM2AHG",
        "outputId": "508c12b1-672c-4745-a77e-c5a1dc1782c4"
      },
      "execution_count": null,
      "outputs": [
        {
          "output_type": "stream",
          "name": "stdout",
          "text": [
            "iteration 1\n",
            "\n",
            "Q: A coin is heads up. Jamey flips the coin. Teressa flips the coin. Is the coin still heads up?\n",
            "A: The coin was flipped by Jamey and Teressa. So the coin was flipped 2 times, which is an even number. \n",
            "The coin started heads up, so after an even number of flips, it will still be heads up. So the answer is yes.\n",
            "Q: A coin is heads up. Maybelle flips the coin. Shalonda does not flip the coin. Is the coin still heads up?\n",
            "A: The coin was flipped by Maybelle. So the coin was flipped 1 time, which is an oddnumber. \n",
            "The coin started heads up, so after an odd number of flips, it will be tails up. So the answer is no.\n",
            "Q: A coin is heads up. Ka flips the coin. Sherrie flips the coin. Is the coin still heads up?\n",
            "A:  The coin was flipped by Ka and then by Sherrie. So the coin was flipped twice, which is an even number.\n",
            "The coin started heads up, so after an even number of flips, it will still be heads up. So the answer is yes.\n",
            "\n",
            "\n",
            "iteration 2\n",
            "\n",
            "Q: A coin is heads up. Jamey flips the coin. Teressa flips the coin. Is the coin still heads up?\n",
            "A: The coin was flipped by Jamey and Teressa. So the coin was flipped 2 times, which is an even number. \n",
            "The coin started heads up, so after an even number of flips, it will still be heads up. So the answer is yes.\n",
            "Q: A coin is heads up. Maybelle flips the coin. Shalonda does not flip the coin. Is the coin still heads up?\n",
            "A: The coin was flipped by Maybelle. So the coin was flipped 1 time, which is an oddnumber. \n",
            "The coin started heads up, so after an odd number of flips, it will be tails up. So the answer is no.\n",
            "Q: A coin is heads up. Ka flips the coin. Sherrie flips the coin. Is the coin still heads up?\n",
            "A:  The coin was flipped by Ka and Sherrie. So the coin was flipped 2 times, which is an even number. \n",
            "The coin started heads up, so after an even number of flips, it will still be heads up. So the answer is yes.\n",
            "Q: A coin is heads up. Jillian flips the coin. Nina does not flip the coin. Is the coin still heads up?\n",
            "A: The coin was flipped by Jillian. So the coin was flipped 1 time, which is an oddnumber. \n",
            "The coin started heads up, so after an odd number of flips, it will be tails up. So the answer is no.\n",
            "\n",
            "\n",
            "iteration 3\n",
            "\n",
            "Q: A coin is heads up. Jamey flips the coin. Teressa flips the coin. Is the coin still heads up?\n",
            "A: The coin was flipped by Jamey and Teressa. So the coin was flipped 2 times, which is an even number. \n",
            "The coin started heads up, so after an even number of flips, it will still be heads up. So the answer is yes.\n",
            "Q: A coin is heads up. Maybelle flips the coin. Shalonda does not flip the coin. Is the coin still heads up?\n",
            "A: The coin was flipped by Maybelle. So the coin was flipped 1 time, which is an oddnumber. \n",
            "The coin started heads up, so after an odd number of flips, it will be tails up. So the answer is no.\n",
            "Q: A coin is heads up. Ka flips the coin. Sherrie flips the coin. Is the coin still heads up?\n",
            "A:  The coin was flipped by Ka and Sherrie. So the coin was flipped 2 times, which is an even number. \n",
            "The coin started heads up, so after an even number of flips, it will still be heads up. So the answer is yes.\n",
            "\n",
            "\n",
            "iteration 4\n",
            "\n",
            "Q: A coin is heads up. Jamey flips the coin. Teressa flips the coin. Is the coin still heads up?\n",
            "A: The coin was flipped by Jamey and Teressa. So the coin was flipped 2 times, which is an even number. \n",
            "The coin started heads up, so after an even number of flips, it will still be heads up. So the answer is yes.\n",
            "Q: A coin is heads up. Maybelle flips the coin. Shalonda does not flip the coin. Is the coin still heads up?\n",
            "A: The coin was flipped by Maybelle. So the coin was flipped 1 time, which is an oddnumber. \n",
            "The coin started heads up, so after an odd number of flips, it will be tails up. So the answer is no.\n",
            "Q: A coin is heads up. Ka flips the coin. Sherrie flips the coin. Is the coin still heads up?\n",
            "A:  The coin was flipped by Ka and then by Sherrie. So the coin was flipped twice, which is an even number of times. \n",
            "The coin started heads up, so after an even number of flips, it will still be heads up. So the answer is yes.\n",
            "\n",
            "\n",
            "iteration 5\n",
            "\n",
            "Q: A coin is heads up. Jamey flips the coin. Teressa flips the coin. Is the coin still heads up?\n",
            "A: The coin was flipped by Jamey and Teressa. So the coin was flipped 2 times, which is an even number. \n",
            "The coin started heads up, so after an even number of flips, it will still be heads up. So the answer is yes.\n",
            "Q: A coin is heads up. Maybelle flips the coin. Shalonda does not flip the coin. Is the coin still heads up?\n",
            "A: The coin was flipped by Maybelle. So the coin was flipped 1 time, which is an oddnumber. \n",
            "The coin started heads up, so after an odd number of flips, it will be tails up. So the answer is no.\n",
            "Q: A coin is heads up. Ka flips the coin. Sherrie flips the coin. Is the coin still heads up?\n",
            "A:  The coin was flipped by both Ka and Sherrie. So the coin was flipped twice, which is an even number. \n",
            "The coin started heads up, so after an even number of flips, it will still be heads up. So the answer is yes.\n",
            "\n",
            "\n"
          ]
        }
      ]
    },
    {
      "cell_type": "code",
      "source": [
        "data = {'Std_Zero_Shot':0, 'Zero_Shot_CoT':20, 'Std_Few_Shot':100, 'Few_Shot_CoT':100}\n",
        "Prompting_Method = list(data.keys())\n",
        "Accuracies = list(data.values())\n",
        "\n",
        "fig = plt.figure(figsize = (10, 5))\n",
        "\n",
        "# creating the bar plot\n",
        "plt.bar(Prompting_Method, Accuracies,\n",
        "        width = 0.4)\n",
        "\n",
        "plt.xlabel(\"Prompting_Method\")\n",
        "plt.ylabel(\"% Accuracies\")\n",
        "plt.title(\"Accuracies of Different Prompting Methods: Test Case 3\")\n",
        "plt.show()"
      ],
      "metadata": {
        "colab": {
          "base_uri": "https://localhost:8080/",
          "height": 487
        },
        "id": "g5wDk9Jk77Vl",
        "outputId": "08977195-f18a-4f75-961d-7539f5f36963"
      },
      "execution_count": null,
      "outputs": [
        {
          "output_type": "display_data",
          "data": {
            "text/plain": [
              "<Figure size 1000x500 with 1 Axes>"
            ],
            "image/png": "[encoded data removed]"
          },
          "metadata": {}
        }
      ]
    }
  ]
}